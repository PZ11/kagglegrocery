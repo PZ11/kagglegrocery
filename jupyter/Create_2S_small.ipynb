{
 "cells": [
  {
   "cell_type": "code",
   "execution_count": 5,
   "metadata": {},
   "outputs": [
    {
     "name": "stderr",
     "output_type": "stream",
     "text": [
      "2018-01-04 11:44:40,181 __main__ 22 [INFO][<module>] start \n",
      "2018-01-04 11:44:40,181 __main__ 22 [INFO][<module>] start \n",
      "2018-01-04 11:44:40,181 __main__ 22 [INFO][<module>] start \n",
      "/home/zyp/anaconda3/lib/python3.6/site-packages/IPython/core/interactiveshell.py:2698: DtypeWarning: Columns (5) have mixed types. Specify dtype option on import or set low_memory=False.\n",
      "  interactivity=interactivity, compiler=compiler, result=result)\n",
      "2018-01-04 11:47:06,521 __main__ 30 [INFO][<module>] load train data successful \n",
      "2018-01-04 11:47:06,521 __main__ 30 [INFO][<module>] load train data successful \n",
      "2018-01-04 11:47:06,521 __main__ 30 [INFO][<module>] load train data successful \n",
      "2018-01-04 11:47:08,961 __main__ 37 [INFO][<module>] load test data \n",
      "2018-01-04 11:47:08,961 __main__ 37 [INFO][<module>] load test data \n",
      "2018-01-04 11:47:08,961 __main__ 37 [INFO][<module>] load test data \n"
     ]
    }
   ],
   "source": [
    "import pandas as pd\n",
    "import numpy as np\n",
    "from datetime import timedelta\n",
    "from logging import StreamHandler, DEBUG, Formatter, FileHandler, getLogger\n",
    "\n",
    "logger = getLogger(__name__)\n",
    "\n",
    "DIR = './logs/'\n",
    "\n",
    "log_fmt = Formatter('%(asctime)s %(name)s %(lineno)d [%(levelname)s][%(funcName)s] %(message)s ')\n",
    "handler = StreamHandler()\n",
    "handler.setLevel('INFO')\n",
    "handler.setFormatter(log_fmt)\n",
    "logger.addHandler(handler)\n",
    "\n",
    "handler = FileHandler(DIR + 'train.py.log', 'a')\n",
    "handler.setLevel(DEBUG)\n",
    "handler.setFormatter(log_fmt)\n",
    "logger.setLevel(DEBUG)\n",
    "logger.addHandler(handler)\n",
    "\n",
    "logger.info('start')\n",
    "\n",
    "#Load Train Data\n",
    "dtypes = {'id':'uint32', 'item_nbr':'int32', 'store_nbr':'int8', 'unit_sales':'float32'}\n",
    "#train = pd.read_csv('../input/train.csv', usecols=[1,2,3,4,5], dtype=dtypes, parse_dates=['date'] )\n",
    "\n",
    "train = pd.read_csv('../input/train.csv', dtype=dtypes, parse_dates=['date'])\n",
    "\n",
    "logger.info('load train data successful')\n",
    "#train_small = train.loc[(train.item_nbr==2116416 | train.item_nbr==2113914 ),]\n",
    "\n",
    "\n",
    "#Load Test Data\n",
    "\n",
    "test = pd.read_csv('../input/test.csv', dtype=dtypes, parse_dates=['date'])\n",
    "logger.info('load test data')\n",
    "\n"
   ]
  },
  {
   "cell_type": "code",
   "execution_count": 11,
   "metadata": {},
   "outputs": [
    {
     "name": "stderr",
     "output_type": "stream",
     "text": [
      "2018-01-04 11:52:29,564 __main__ 9 [INFO][<module>] end \n",
      "2018-01-04 11:52:29,564 __main__ 9 [INFO][<module>] end \n",
      "2018-01-04 11:52:29,564 __main__ 9 [INFO][<module>] end \n"
     ]
    }
   ],
   "source": [
    "\n",
    "train_small = train.loc[(train['store_nbr'].isin([1,25]) ),]\n",
    "test_small = test.loc[(test['store_nbr'].isin([1,25]) ),]\n",
    "\n",
    "#Write File\n",
    "test_small.to_csv('../input/test_2s.csv', index=False)\n",
    "train_small.to_csv('../input/train_2s.csv', index=False)\n",
    "\n",
    "logger.info('end')"
   ]
  }
 ],
 "metadata": {
  "kernelspec": {
   "display_name": "Python 3",
   "language": "python",
   "name": "python3"
  },
  "language_info": {
   "codemirror_mode": {
    "name": "ipython",
    "version": 3
   },
   "file_extension": ".py",
   "mimetype": "text/x-python",
   "name": "python",
   "nbconvert_exporter": "python",
   "pygments_lexer": "ipython3",
   "version": "3.6.3"
  }
 },
 "nbformat": 4,
 "nbformat_minor": 2
}
