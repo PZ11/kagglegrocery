{
 "cells": [
  {
   "cell_type": "code",
   "execution_count": 92,
   "metadata": {},
   "outputs": [
    {
     "name": "stderr",
     "output_type": "stream",
     "text": [
      "2018-01-04 14:01:29,021 __main__ 35 [INFO]    [<module>] start \n"
     ]
    }
   ],
   "source": [
    "\n",
    "import pandas as pd\n",
    "import numpy as np\n",
    "import lightgbm as lgb\n",
    "import sys\n",
    "import math\n",
    "import gc\n",
    "import sklearn.metrics as skl_metrics\n",
    "from sklearn.metrics import mean_squared_error\n",
    "\n",
    "# import math\n",
    "# import sklearn.metrics as skl_metrics\n",
    "# from sklearn.metrics import mean_squared_error\n",
    "\n",
    "from logging import StreamHandler, DEBUG, Formatter, FileHandler, getLogger\n",
    "\n",
    "logger = getLogger(__name__)\n",
    "\n",
    "pd.options.mode.chained_assignment = None  # default='warn'\n",
    "\n",
    "DIR = '../logs/'\n",
    "\n",
    "log_fmt = Formatter('%(asctime)s %(name)s %(lineno)d [%(levelname)s]\\\n",
    "    [%(funcName)s] %(message)s ')\n",
    "handler = StreamHandler()\n",
    "handler.setLevel('INFO')\n",
    "handler.setFormatter(log_fmt)\n",
    "logger.addHandler(handler)\n",
    "\n",
    "handler = FileHandler(DIR + 'train.py.log', 'a')\n",
    "handler.setLevel(DEBUG)\n",
    "handler.setFormatter(log_fmt)\n",
    "logger.setLevel(DEBUG)\n",
    "logger.addHandler(handler)\n",
    "\n",
    "logger.info('start')"
   ]
  },
  {
   "cell_type": "code",
   "execution_count": 62,
   "metadata": {
    "collapsed": true
   },
   "outputs": [],
   "source": [
    "train_out = pd.read_pickle('../data/storeitem_train_1s.p')\n",
    "val_out = pd.read_pickle('../data/storeitem_val_1s.p')\n",
    "X_test_out = pd.read_pickle('../data/storeitem_test_1s.p')\n",
    "\n",
    "item_train_out = pd.read_pickle('../data/item_train_1s.p')\n",
    "item_val_out = pd.read_pickle('../data/item_val_1s.p')\n",
    "item_X_test_out = pd.read_pickle('../data/item_test_1s.p')\n",
    "\n",
    "df_test = pd.read_csv(\n",
    "    \"../input/test_1s.csv\", usecols=[0, 1, 2, 3, 4],\n",
    "    dtype={'onpromotion': bool},\n",
    "    parse_dates=[\"date\"]  # , date_parser=parser\n",
    ").set_index(\n",
    "    ['store_nbr', 'item_nbr', 'date']\n",
    ")\n",
    "\n",
    "\n",
    "items = pd.read_csv(\n",
    "    \"../input/items.csv\",\n",
    ").set_index(\"item_nbr\")\n",
    "items = items.reindex(train_out.item_nbr)\n",
    "\n",
    "items_val = pd.read_csv(\n",
    "    \"../input/items.csv\",\n",
    ").set_index(\"item_nbr\")\n",
    "items_val = items_val.reindex(val_out['item_nbr'])\n"
   ]
  },
  {
   "cell_type": "code",
   "execution_count": 87,
   "metadata": {},
   "outputs": [],
   "source": []
  },
  {
   "cell_type": "code",
   "execution_count": 63,
   "metadata": {
    "collapsed": true
   },
   "outputs": [],
   "source": [
    "all_columns = train_out.columns.tolist()\n",
    "\n",
    "y_columns = ['day'+str(i) for i in range(1, 17)]\n",
    "x_columns = [item for item in all_columns if item not in y_columns]\n"
   ]
  },
  {
   "cell_type": "code",
   "execution_count": 64,
   "metadata": {},
   "outputs": [
    {
     "data": {
      "text/html": [
       "<div>\n",
       "<style>\n",
       "    .dataframe thead tr:only-child th {\n",
       "        text-align: right;\n",
       "    }\n",
       "\n",
       "    .dataframe thead th {\n",
       "        text-align: left;\n",
       "    }\n",
       "\n",
       "    .dataframe tbody tr th {\n",
       "        vertical-align: top;\n",
       "    }\n",
       "</style>\n",
       "<table border=\"1\" class=\"dataframe\">\n",
       "  <thead>\n",
       "    <tr style=\"text-align: right;\">\n",
       "      <th></th>\n",
       "      <th>index</th>\n",
       "      <th>date</th>\n",
       "      <th>day_1_2017</th>\n",
       "      <th>item_nbr</th>\n",
       "      <th>mean_140_2017</th>\n",
       "      <th>mean_14_2017</th>\n",
       "      <th>mean_182_2017</th>\n",
       "      <th>mean_21_2017</th>\n",
       "      <th>mean_30_2017</th>\n",
       "      <th>mean_364_2017</th>\n",
       "      <th>...</th>\n",
       "      <th>day7</th>\n",
       "      <th>day8</th>\n",
       "      <th>day9</th>\n",
       "      <th>day10</th>\n",
       "      <th>day11</th>\n",
       "      <th>day12</th>\n",
       "      <th>day13</th>\n",
       "      <th>day14</th>\n",
       "      <th>day15</th>\n",
       "      <th>day16</th>\n",
       "    </tr>\n",
       "  </thead>\n",
       "  <tbody>\n",
       "    <tr>\n",
       "      <th>0</th>\n",
       "      <td>0</td>\n",
       "      <td>2016-08-03</td>\n",
       "      <td>0.0</td>\n",
       "      <td>96995</td>\n",
       "      <td>0.0</td>\n",
       "      <td>0.0</td>\n",
       "      <td>0.0</td>\n",
       "      <td>0.0</td>\n",
       "      <td>0.0</td>\n",
       "      <td>0.0</td>\n",
       "      <td>...</td>\n",
       "      <td>0.0</td>\n",
       "      <td>0.0</td>\n",
       "      <td>0.0</td>\n",
       "      <td>0.0</td>\n",
       "      <td>0.0</td>\n",
       "      <td>0.0</td>\n",
       "      <td>0.0</td>\n",
       "      <td>0.0</td>\n",
       "      <td>0.0</td>\n",
       "      <td>0.0</td>\n",
       "    </tr>\n",
       "  </tbody>\n",
       "</table>\n",
       "<p>1 rows × 144 columns</p>\n",
       "</div>"
      ],
      "text/plain": [
       "   index        date  day_1_2017  item_nbr  mean_140_2017  mean_14_2017  \\\n",
       "0      0  2016-08-03         0.0     96995            0.0           0.0   \n",
       "\n",
       "   mean_182_2017  mean_21_2017  mean_30_2017  mean_364_2017  ...    day7  \\\n",
       "0            0.0           0.0           0.0            0.0  ...     0.0   \n",
       "\n",
       "   day8  day9  day10  day11  day12  day13  day14  day15  day16  \n",
       "0   0.0   0.0    0.0    0.0    0.0    0.0    0.0    0.0    0.0  \n",
       "\n",
       "[1 rows x 144 columns]"
      ]
     },
     "execution_count": 64,
     "metadata": {},
     "output_type": "execute_result"
    }
   ],
   "source": [
    "train_out.head(1)"
   ]
  },
  {
   "cell_type": "code",
   "execution_count": 65,
   "metadata": {},
   "outputs": [
    {
     "data": {
      "text/html": [
       "<div>\n",
       "<style>\n",
       "    .dataframe thead tr:only-child th {\n",
       "        text-align: right;\n",
       "    }\n",
       "\n",
       "    .dataframe thead th {\n",
       "        text-align: left;\n",
       "    }\n",
       "\n",
       "    .dataframe tbody tr th {\n",
       "        vertical-align: top;\n",
       "    }\n",
       "</style>\n",
       "<table border=\"1\" class=\"dataframe\">\n",
       "  <thead>\n",
       "    <tr style=\"text-align: right;\">\n",
       "      <th></th>\n",
       "      <th>index</th>\n",
       "      <th>date</th>\n",
       "      <th>item_day_1_2017</th>\n",
       "      <th>item_mean_182_2017</th>\n",
       "      <th>item_mean_21_2017</th>\n",
       "      <th>item_mean_364_2017</th>\n",
       "      <th>item_mean_42_2017</th>\n",
       "      <th>item_mean_7_2017</th>\n",
       "      <th>item_mean_91_2017</th>\n",
       "      <th>item_nbr</th>\n",
       "      <th>...</th>\n",
       "      <th>item_dow_26_4_mean</th>\n",
       "      <th>item_dow_52_4_mean</th>\n",
       "      <th>item_dow_4_5_mean</th>\n",
       "      <th>item_dow_13_5_mean</th>\n",
       "      <th>item_dow_26_5_mean</th>\n",
       "      <th>item_dow_52_5_mean</th>\n",
       "      <th>item_dow_4_6_mean</th>\n",
       "      <th>item_dow_13_6_mean</th>\n",
       "      <th>item_dow_26_6_mean</th>\n",
       "      <th>item_dow_52_6_mean</th>\n",
       "    </tr>\n",
       "  </thead>\n",
       "  <tbody>\n",
       "    <tr>\n",
       "      <th>0</th>\n",
       "      <td>0</td>\n",
       "      <td>2016-08-03</td>\n",
       "      <td>0.0</td>\n",
       "      <td>0.0</td>\n",
       "      <td>0.0</td>\n",
       "      <td>0.0</td>\n",
       "      <td>0.0</td>\n",
       "      <td>0.0</td>\n",
       "      <td>0.0</td>\n",
       "      <td>96995</td>\n",
       "      <td>...</td>\n",
       "      <td>0.0</td>\n",
       "      <td>0.0</td>\n",
       "      <td>0.0</td>\n",
       "      <td>0.0</td>\n",
       "      <td>0.0</td>\n",
       "      <td>0.0</td>\n",
       "      <td>0.0</td>\n",
       "      <td>0.0</td>\n",
       "      <td>0.0</td>\n",
       "      <td>0.0</td>\n",
       "    </tr>\n",
       "  </tbody>\n",
       "</table>\n",
       "<p>1 rows × 38 columns</p>\n",
       "</div>"
      ],
      "text/plain": [
       "   index        date  item_day_1_2017  item_mean_182_2017  item_mean_21_2017  \\\n",
       "0      0  2016-08-03              0.0                 0.0                0.0   \n",
       "\n",
       "   item_mean_364_2017  item_mean_42_2017  item_mean_7_2017  item_mean_91_2017  \\\n",
       "0                 0.0                0.0               0.0                0.0   \n",
       "\n",
       "   item_nbr         ...          item_dow_26_4_mean  item_dow_52_4_mean  \\\n",
       "0     96995         ...                         0.0                 0.0   \n",
       "\n",
       "   item_dow_4_5_mean  item_dow_13_5_mean  item_dow_26_5_mean  \\\n",
       "0                0.0                 0.0                 0.0   \n",
       "\n",
       "   item_dow_52_5_mean  item_dow_4_6_mean  item_dow_13_6_mean  \\\n",
       "0                 0.0                0.0                 0.0   \n",
       "\n",
       "   item_dow_26_6_mean  item_dow_52_6_mean  \n",
       "0                 0.0                 0.0  \n",
       "\n",
       "[1 rows x 38 columns]"
      ]
     },
     "execution_count": 65,
     "metadata": {},
     "output_type": "execute_result"
    }
   ],
   "source": [
    "item_train_out.head(1)"
   ]
  },
  {
   "cell_type": "code",
   "execution_count": 66,
   "metadata": {
    "collapsed": true
   },
   "outputs": [],
   "source": [
    "del train_out[\"index\"]\n",
    "del item_train_out[\"index\"]"
   ]
  },
  {
   "cell_type": "code",
   "execution_count": 67,
   "metadata": {
    "collapsed": true
   },
   "outputs": [],
   "source": [
    "train_out = pd.merge(train_out, item_train_out, how='inner', on=['item_nbr','date'])\n",
    "val_out = pd.merge(val_out, item_val_out, how='inner', on=['item_nbr','date'])\n",
    "X_test_out = pd.merge(X_test_out, item_X_test_out, how='inner', on=['item_nbr','date'])\n"
   ]
  },
  {
   "cell_type": "code",
   "execution_count": 68,
   "metadata": {},
   "outputs": [
    {
     "data": {
      "text/plain": [
       "Index(['date', 'day_1_2017', 'item_nbr', 'mean_140_2017', 'mean_14_2017',\n",
       "       'mean_182_2017', 'mean_21_2017', 'mean_30_2017', 'mean_364_2017',\n",
       "       'mean_3_2017',\n",
       "       ...\n",
       "       'item_dow_26_4_mean', 'item_dow_52_4_mean', 'item_dow_4_5_mean',\n",
       "       'item_dow_13_5_mean', 'item_dow_26_5_mean', 'item_dow_52_5_mean',\n",
       "       'item_dow_4_6_mean', 'item_dow_13_6_mean', 'item_dow_26_6_mean',\n",
       "       'item_dow_52_6_mean'],\n",
       "      dtype='object', length=178)"
      ]
     },
     "execution_count": 68,
     "metadata": {},
     "output_type": "execute_result"
    }
   ],
   "source": [
    "train_out.columns"
   ]
  },
  {
   "cell_type": "code",
   "execution_count": 69,
   "metadata": {},
   "outputs": [
    {
     "data": {
      "text/plain": [
       "(46241, 194)"
      ]
     },
     "execution_count": 69,
     "metadata": {},
     "output_type": "execute_result"
    }
   ],
   "source": [
    "train_merge.shape"
   ]
  },
  {
   "cell_type": "code",
   "execution_count": 70,
   "metadata": {},
   "outputs": [
    {
     "data": {
      "text/plain": [
       "(46241, 178)"
      ]
     },
     "execution_count": 70,
     "metadata": {},
     "output_type": "execute_result"
    }
   ],
   "source": [
    "train_out.shape"
   ]
  },
  {
   "cell_type": "code",
   "execution_count": 71,
   "metadata": {},
   "outputs": [
    {
     "data": {
      "text/plain": [
       "(46956, 37)"
      ]
     },
     "execution_count": 71,
     "metadata": {},
     "output_type": "execute_result"
    }
   ],
   "source": [
    "item_train_out.shape"
   ]
  },
  {
   "cell_type": "code",
   "execution_count": 72,
   "metadata": {},
   "outputs": [
    {
     "data": {
      "text/html": [
       "<div>\n",
       "<style>\n",
       "    .dataframe thead tr:only-child th {\n",
       "        text-align: right;\n",
       "    }\n",
       "\n",
       "    .dataframe thead th {\n",
       "        text-align: left;\n",
       "    }\n",
       "\n",
       "    .dataframe tbody tr th {\n",
       "        vertical-align: top;\n",
       "    }\n",
       "</style>\n",
       "<table border=\"1\" class=\"dataframe\">\n",
       "  <thead>\n",
       "    <tr style=\"text-align: right;\">\n",
       "      <th></th>\n",
       "      <th>date</th>\n",
       "      <th>day_1_2017</th>\n",
       "      <th>item_nbr</th>\n",
       "      <th>mean_140_2017</th>\n",
       "      <th>mean_14_2017</th>\n",
       "      <th>mean_182_2017</th>\n",
       "      <th>mean_21_2017</th>\n",
       "      <th>mean_30_2017</th>\n",
       "      <th>mean_364_2017</th>\n",
       "      <th>mean_3_2017</th>\n",
       "      <th>...</th>\n",
       "      <th>day7_y</th>\n",
       "      <th>day8_y</th>\n",
       "      <th>day9_y</th>\n",
       "      <th>day10_y</th>\n",
       "      <th>day11_y</th>\n",
       "      <th>day12_y</th>\n",
       "      <th>day13_y</th>\n",
       "      <th>day14_y</th>\n",
       "      <th>day15_y</th>\n",
       "      <th>day16_y</th>\n",
       "    </tr>\n",
       "  </thead>\n",
       "  <tbody>\n",
       "    <tr>\n",
       "      <th>0</th>\n",
       "      <td>2016-08-03</td>\n",
       "      <td>0.0</td>\n",
       "      <td>96995</td>\n",
       "      <td>0.000000</td>\n",
       "      <td>0.0</td>\n",
       "      <td>0.000000</td>\n",
       "      <td>0.0</td>\n",
       "      <td>0.0</td>\n",
       "      <td>0.000000</td>\n",
       "      <td>0.0</td>\n",
       "      <td>...</td>\n",
       "      <td>0.0</td>\n",
       "      <td>0.0</td>\n",
       "      <td>0.0</td>\n",
       "      <td>0.0</td>\n",
       "      <td>0.0</td>\n",
       "      <td>0.0</td>\n",
       "      <td>0.0</td>\n",
       "      <td>0.0</td>\n",
       "      <td>0.0</td>\n",
       "      <td>0.0</td>\n",
       "    </tr>\n",
       "    <tr>\n",
       "      <th>1</th>\n",
       "      <td>2016-08-03</td>\n",
       "      <td>0.0</td>\n",
       "      <td>99197</td>\n",
       "      <td>0.155837</td>\n",
       "      <td>0.0</td>\n",
       "      <td>0.119875</td>\n",
       "      <td>0.0</td>\n",
       "      <td>0.0</td>\n",
       "      <td>0.180301</td>\n",
       "      <td>0.0</td>\n",
       "      <td>...</td>\n",
       "      <td>0.0</td>\n",
       "      <td>0.0</td>\n",
       "      <td>0.0</td>\n",
       "      <td>0.0</td>\n",
       "      <td>0.0</td>\n",
       "      <td>0.0</td>\n",
       "      <td>0.0</td>\n",
       "      <td>0.0</td>\n",
       "      <td>0.0</td>\n",
       "      <td>0.0</td>\n",
       "    </tr>\n",
       "  </tbody>\n",
       "</table>\n",
       "<p>2 rows × 194 columns</p>\n",
       "</div>"
      ],
      "text/plain": [
       "         date  day_1_2017  item_nbr  mean_140_2017  mean_14_2017  \\\n",
       "0  2016-08-03         0.0     96995       0.000000           0.0   \n",
       "1  2016-08-03         0.0     99197       0.155837           0.0   \n",
       "\n",
       "   mean_182_2017  mean_21_2017  mean_30_2017  mean_364_2017  mean_3_2017  \\\n",
       "0       0.000000           0.0           0.0       0.000000          0.0   \n",
       "1       0.119875           0.0           0.0       0.180301          0.0   \n",
       "\n",
       "    ...     day7_y  day8_y  day9_y  day10_y  day11_y  day12_y  day13_y  \\\n",
       "0   ...        0.0     0.0     0.0      0.0      0.0      0.0      0.0   \n",
       "1   ...        0.0     0.0     0.0      0.0      0.0      0.0      0.0   \n",
       "\n",
       "   day14_y  day15_y  day16_y  \n",
       "0      0.0      0.0      0.0  \n",
       "1      0.0      0.0      0.0  \n",
       "\n",
       "[2 rows x 194 columns]"
      ]
     },
     "execution_count": 72,
     "metadata": {},
     "output_type": "execute_result"
    }
   ],
   "source": [
    "train_merge.head(2)"
   ]
  },
  {
   "cell_type": "code",
   "execution_count": 73,
   "metadata": {
    "collapsed": true
   },
   "outputs": [],
   "source": [
    "all_columns = train_out.columns.tolist()\n",
    "\n",
    "y_columns = ['day'+str(i) for i in range(1, 17)]\n",
    "x_columns = [item for item in all_columns if item not in y_columns]\n",
    "\n",
    "features_all = x_columns\n",
    "features_all.remove(\"date\") \n",
    "features_all.remove(\"item_nbr\") \n",
    "features_all.remove(\"store_nbr\") \n"
   ]
  },
  {
   "cell_type": "code",
   "execution_count": 74,
   "metadata": {},
   "outputs": [],
   "source": [
    "\n",
    "X_train_out = train_out[x_columns]"
   ]
  },
  {
   "cell_type": "code",
   "execution_count": 75,
   "metadata": {},
   "outputs": [
    {
     "data": {
      "text/plain": [
       "(3557, 180)"
      ]
     },
     "execution_count": 75,
     "metadata": {},
     "output_type": "execute_result"
    }
   ],
   "source": [
    "val_out.shape"
   ]
  },
  {
   "cell_type": "code",
   "execution_count": 76,
   "metadata": {},
   "outputs": [],
   "source": [
    "\n",
    "X_val_out = val_out[x_columns]"
   ]
  },
  {
   "cell_type": "code",
   "execution_count": 77,
   "metadata": {},
   "outputs": [
    {
     "data": {
      "text/plain": [
       "['day_1_2017',\n",
       " 'mean_140_2017',\n",
       " 'mean_14_2017',\n",
       " 'mean_182_2017',\n",
       " 'mean_21_2017',\n",
       " 'mean_30_2017',\n",
       " 'mean_364_2017',\n",
       " 'mean_3_2017',\n",
       " 'mean_42_2017',\n",
       " 'mean_60_2017',\n",
       " 'mean_7_2017',\n",
       " 'mean_91_2017',\n",
       " 'mean_ly_14_2017',\n",
       " 'mean_ly_21_2017',\n",
       " 'mean_ly_30_2017',\n",
       " 'mean_ly_7_2017',\n",
       " 'mean_ly_n16d_2017',\n",
       " 'promo_140_2017',\n",
       " 'promo_14_2017',\n",
       " 'promo_60_2017',\n",
       " 'ly_1d_d0',\n",
       " 'l2y_1d_d0',\n",
       " 'ly_1d_d1',\n",
       " 'l2y_1d_d1',\n",
       " 'ly_1d_d2',\n",
       " 'l2y_1d_d2',\n",
       " 'ly_1d_d3',\n",
       " 'l2y_1d_d3',\n",
       " 'ly_1d_d4',\n",
       " 'l2y_1d_d4',\n",
       " 'ly_1d_d5',\n",
       " 'l2y_1d_d5',\n",
       " 'ly_1d_d6',\n",
       " 'l2y_1d_d6',\n",
       " 'ly_1d_d7',\n",
       " 'l2y_1d_d7',\n",
       " 'ly_1d_d8',\n",
       " 'l2y_1d_d8',\n",
       " 'ly_1d_d9',\n",
       " 'l2y_1d_d9',\n",
       " 'ly_1d_d10',\n",
       " 'l2y_1d_d10',\n",
       " 'ly_1d_d11',\n",
       " 'l2y_1d_d11',\n",
       " 'ly_1d_d12',\n",
       " 'l2y_1d_d12',\n",
       " 'ly_1d_d13',\n",
       " 'l2y_1d_d13',\n",
       " 'ly_1d_d14',\n",
       " 'l2y_1d_d14',\n",
       " 'ly_1d_d15',\n",
       " 'l2y_1d_d15',\n",
       " 'dow_1_0_mean',\n",
       " 'dow_4_0_mean',\n",
       " 'dow_8_0_mean',\n",
       " 'dow_13_0_mean',\n",
       " 'dow_26_0_mean',\n",
       " 'dow_52_0_mean',\n",
       " 'dow_ly3w_0_mean',\n",
       " 'dow_ly8w_0_mean',\n",
       " 'dow_1_1_mean',\n",
       " 'dow_4_1_mean',\n",
       " 'dow_8_1_mean',\n",
       " 'dow_13_1_mean',\n",
       " 'dow_26_1_mean',\n",
       " 'dow_52_1_mean',\n",
       " 'dow_ly3w_1_mean',\n",
       " 'dow_ly8w_1_mean',\n",
       " 'dow_1_2_mean',\n",
       " 'dow_4_2_mean',\n",
       " 'dow_8_2_mean',\n",
       " 'dow_13_2_mean',\n",
       " 'dow_26_2_mean',\n",
       " 'dow_52_2_mean',\n",
       " 'dow_ly3w_2_mean',\n",
       " 'dow_ly8w_2_mean',\n",
       " 'dow_1_3_mean',\n",
       " 'dow_4_3_mean',\n",
       " 'dow_8_3_mean',\n",
       " 'dow_13_3_mean',\n",
       " 'dow_26_3_mean',\n",
       " 'dow_52_3_mean',\n",
       " 'dow_ly3w_3_mean',\n",
       " 'dow_ly8w_3_mean',\n",
       " 'dow_1_4_mean',\n",
       " 'dow_4_4_mean',\n",
       " 'dow_8_4_mean',\n",
       " 'dow_13_4_mean',\n",
       " 'dow_26_4_mean',\n",
       " 'dow_52_4_mean',\n",
       " 'dow_ly3w_4_mean',\n",
       " 'dow_ly8w_4_mean',\n",
       " 'dow_1_5_mean',\n",
       " 'dow_4_5_mean',\n",
       " 'dow_8_5_mean',\n",
       " 'dow_13_5_mean',\n",
       " 'dow_26_5_mean',\n",
       " 'dow_52_5_mean',\n",
       " 'dow_ly3w_5_mean',\n",
       " 'dow_ly8w_5_mean',\n",
       " 'dow_1_6_mean',\n",
       " 'dow_4_6_mean',\n",
       " 'dow_8_6_mean',\n",
       " 'dow_13_6_mean',\n",
       " 'dow_26_6_mean',\n",
       " 'dow_52_6_mean',\n",
       " 'dow_ly3w_6_mean',\n",
       " 'dow_ly8w_6_mean',\n",
       " 'promo_0',\n",
       " 'promo_1',\n",
       " 'promo_2',\n",
       " 'promo_3',\n",
       " 'promo_4',\n",
       " 'promo_5',\n",
       " 'promo_6',\n",
       " 'promo_7',\n",
       " 'promo_8',\n",
       " 'promo_9',\n",
       " 'promo_10',\n",
       " 'promo_11',\n",
       " 'promo_12',\n",
       " 'promo_13',\n",
       " 'promo_14',\n",
       " 'promo_15',\n",
       " 'item_day_1_2017',\n",
       " 'item_mean_182_2017',\n",
       " 'item_mean_21_2017',\n",
       " 'item_mean_364_2017',\n",
       " 'item_mean_42_2017',\n",
       " 'item_mean_7_2017',\n",
       " 'item_mean_91_2017',\n",
       " 'item_dow_4_0_mean',\n",
       " 'item_dow_13_0_mean',\n",
       " 'item_dow_26_0_mean',\n",
       " 'item_dow_52_0_mean',\n",
       " 'item_dow_4_1_mean',\n",
       " 'item_dow_13_1_mean',\n",
       " 'item_dow_26_1_mean',\n",
       " 'item_dow_52_1_mean',\n",
       " 'item_dow_4_2_mean',\n",
       " 'item_dow_13_2_mean',\n",
       " 'item_dow_26_2_mean',\n",
       " 'item_dow_52_2_mean',\n",
       " 'item_dow_4_3_mean',\n",
       " 'item_dow_13_3_mean',\n",
       " 'item_dow_26_3_mean',\n",
       " 'item_dow_52_3_mean',\n",
       " 'item_dow_4_4_mean',\n",
       " 'item_dow_13_4_mean',\n",
       " 'item_dow_26_4_mean',\n",
       " 'item_dow_52_4_mean',\n",
       " 'item_dow_4_5_mean',\n",
       " 'item_dow_13_5_mean',\n",
       " 'item_dow_26_5_mean',\n",
       " 'item_dow_52_5_mean',\n",
       " 'item_dow_4_6_mean',\n",
       " 'item_dow_13_6_mean',\n",
       " 'item_dow_26_6_mean',\n",
       " 'item_dow_52_6_mean']"
      ]
     },
     "execution_count": 77,
     "metadata": {},
     "output_type": "execute_result"
    }
   ],
   "source": [
    "x_columns"
   ]
  },
  {
   "cell_type": "code",
   "execution_count": 78,
   "metadata": {},
   "outputs": [
    {
     "data": {
      "text/plain": [
       "['day1',\n",
       " 'day2',\n",
       " 'day3',\n",
       " 'day4',\n",
       " 'day5',\n",
       " 'day6',\n",
       " 'day7',\n",
       " 'day8',\n",
       " 'day9',\n",
       " 'day10',\n",
       " 'day11',\n",
       " 'day12',\n",
       " 'day13',\n",
       " 'day14',\n",
       " 'day15',\n",
       " 'day16']"
      ]
     },
     "execution_count": 78,
     "metadata": {},
     "output_type": "execute_result"
    }
   ],
   "source": [
    "y_columns"
   ]
  },
  {
   "cell_type": "code",
   "execution_count": 79,
   "metadata": {},
   "outputs": [],
   "source": [
    "y_train = train_out[y_columns].values"
   ]
  },
  {
   "cell_type": "code",
   "execution_count": 90,
   "metadata": {},
   "outputs": [
    {
     "data": {
      "text/plain": [
       "array([[ 0.        ,  0.        ,  0.        , ...,  0.        ,\n",
       "         0.        ,  0.        ],\n",
       "       [ 0.        ,  0.        ,  0.        , ...,  0.        ,\n",
       "         0.        ,  0.        ],\n",
       "       [ 0.        ,  0.        ,  0.69314718, ...,  0.        ,\n",
       "         0.69314718,  0.69314718],\n",
       "       ..., \n",
       "       [ 0.        ,  0.        ,  0.        , ...,  0.        ,\n",
       "         0.        ,  1.09861229],\n",
       "       [ 1.79175947,  1.60943791,  2.7080502 , ...,  0.        ,\n",
       "         1.38629436,  1.60943791],\n",
       "       [ 0.        ,  0.        ,  0.        , ...,  0.69314718,\n",
       "         0.        ,  0.        ]])"
      ]
     },
     "execution_count": 90,
     "metadata": {},
     "output_type": "execute_result"
    }
   ],
   "source": [
    "y_train"
   ]
  },
  {
   "cell_type": "code",
   "execution_count": 80,
   "metadata": {},
   "outputs": [],
   "source": [
    "\n",
    "y_train = train_out[y_columns].values\n",
    "y_val = val_out[y_columns].values"
   ]
  },
  {
   "cell_type": "code",
   "execution_count": 83,
   "metadata": {},
   "outputs": [],
   "source": [
    "\n",
    "X_train_allF = X_train_out[features_all]\n",
    "X_val_allF = X_val_out[features_all]\n",
    "X_test_allF = X_test_out[features_all]\n",
    "\n",
    "#del train_out, val_out\n",
    "#del X_train_out, X_val_out, X_test_out\n",
    "gc.collect()\n",
    "\n",
    "params = {\n",
    "    'num_leaves': 31,\n",
    "    'objective': 'regression',\n",
    "    'min_data_in_leaf': 300,\n",
    "    'learning_rate': 0.1,\n",
    "    'feature_fraction': 0.8,\n",
    "    'bagging_fraction': 0.8,\n",
    "    'bagging_freq': 2,\n",
    "    'metric': 'l2',\n",
    "    'num_threads': 4\n",
    "}\n",
    "\n",
    "MAX_ROUNDS = 500\n",
    "val_pred = []\n",
    "test_pred = []\n",
    "cate_vars = []\n",
    "\n",
    "\n",
    "train_week_2017 = 7\n",
    "\n",
    "features_all = X_train_allF.columns.tolist()\n"
   ]
  },
  {
   "cell_type": "code",
   "execution_count": 88,
   "metadata": {},
   "outputs": [
    {
     "name": "stdout",
     "output_type": "stream",
     "text": [
      "======================================================================\n",
      "======================================================================\n"
     ]
    }
   ],
   "source": [
    "\n",
    "i = 0 \n",
    "\n",
    "print(\"=\" * 70)\n",
    "print(\"=\" * 70)\n",
    "features_t = features_all.copy()\n",
    "\n",
    "for j in range(16):\n",
    "    if j != i:\n",
    "        features_t.remove('ly_1d_d{}'.format(j))\n",
    "        features_t.remove('l2y_1d_d{}'.format(j))\n",
    "\n",
    "for j in range(7):\n",
    "    if j != i%7:\n",
    "        features_t.remove('dow_1_{}_mean'.format(j))\n",
    "        features_t.remove('dow_4_{}_mean'.format(j))\n",
    "        features_t.remove('dow_8_{}_mean'.format(j))\n",
    "        features_t.remove('dow_13_{}_mean'.format(j))\n",
    "        features_t.remove('dow_26_{}_mean'.format(j))\n",
    "        features_t.remove('dow_52_{}_mean'.format(j))\n",
    "        features_t.remove('dow_ly3w_{}_mean'.format(j))\n",
    "        features_t.remove('dow_ly8w_{}_mean'.format(j))\n",
    "\n",
    "        features_t.remove('item_dow_4_{}_mean'.format(j))\n",
    "        features_t.remove('item_dow_13_{}_mean'.format(j))\n",
    "        features_t.remove('item_dow_26_{}_mean'.format(j))\n",
    "        features_t.remove('item_dow_52_{}_mean'.format(j))\n",
    "\n",
    "\n",
    "X_train = X_train_allF[features_t]\n",
    "X_val = X_val_allF[features_t]\n",
    "X_test = X_test_allF[features_t]\n",
    "\n",
    "dtrain = lgb.Dataset(\n",
    "    X_train, label=y_train[:, i],\n",
    "    categorical_feature=cate_vars,\n",
    "    weight=pd.concat([items[\"perishable\"]]) * 0.25 + 1\n",
    ")\n"
   ]
  },
  {
   "cell_type": "code",
   "execution_count": 89,
   "metadata": {},
   "outputs": [
    {
     "name": "stderr",
     "output_type": "stream",
     "text": [
      "/home/zyp/anaconda3/lib/python3.6/site-packages/lightgbm/basic.py:1030: UserWarning: Using categorical_feature in Dataset.\n",
      "  warnings.warn('Using categorical_feature in Dataset.')\n"
     ]
    },
    {
     "name": "stdout",
     "output_type": "stream",
     "text": [
      "Training until validation scores don't improve for 50 rounds.\n",
      "[100]\ttraining's l2: 0.249349\tvalid_1's l2: 0.239901\n",
      "[200]\ttraining's l2: 0.230128\tvalid_1's l2: 0.222061\n",
      "[300]\ttraining's l2: 0.214812\tvalid_1's l2: 0.20676\n",
      "[400]\ttraining's l2: 0.201696\tvalid_1's l2: 0.193711\n",
      "[500]\ttraining's l2: 0.189965\tvalid_1's l2: 0.181778\n"
     ]
    }
   ],
   "source": [
    "\n",
    "dval = lgb.Dataset(\n",
    "     X_val, label=y_val[:, i], reference=dtrain,\n",
    "     weight=items_val[\"perishable\"] * 0.25 + 1,\n",
    "     categorical_feature=cate_vars)\n",
    "\n",
    "bst = lgb.train(\n",
    "    params, dtrain, num_boost_round=MAX_ROUNDS,\n",
    "    valid_sets=[dtrain, dval], early_stopping_rounds=50,\n",
    "    verbose_eval=100\n",
    ")\n"
   ]
  }
 ],
 "metadata": {
  "kernelspec": {
   "display_name": "Python 3",
   "language": "python",
   "name": "python3"
  },
  "language_info": {
   "codemirror_mode": {
    "name": "ipython",
    "version": 3
   },
   "file_extension": ".py",
   "mimetype": "text/x-python",
   "name": "python",
   "nbconvert_exporter": "python",
   "pygments_lexer": "ipython3",
   "version": "3.6.3"
  }
 },
 "nbformat": 4,
 "nbformat_minor": 2
}
