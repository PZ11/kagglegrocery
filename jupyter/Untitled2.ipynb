{
 "cells": [
  {
   "cell_type": "code",
   "execution_count": 65,
   "metadata": {},
   "outputs": [],
   "source": [
    "from datetime import date, timedelta\n",
    "\n",
    "import pandas as pd\n",
    "import numpy as np\n",
    "\n",
    "import math\n",
    "\n",
    "\n",
    "\n",
    "###############################################################################\n",
    "# Load Weather Data\n",
    "\n",
    "dtype_weather={\"TEMP\":np.float32,\n",
    "                              \"VISIB\":np.float32,\n",
    "                              \"PRCP\": np.float32\n",
    "               }\n",
    "\n",
    "weather = pd.read_csv('../input/Weather_20180107.csv',dtype=dtype_weather,)\n",
    "weather[\"date\"] = pd.to_datetime(weather['YEARMODA'],format='%Y%m%d')\n",
    "\n",
    "del weather['YEARMODA']\n",
    "\n"
   ]
  },
  {
   "cell_type": "code",
   "execution_count": 12,
   "metadata": {},
   "outputs": [
    {
     "data": {
      "text/html": [
       "<div>\n",
       "<style>\n",
       "    .dataframe thead tr:only-child th {\n",
       "        text-align: right;\n",
       "    }\n",
       "\n",
       "    .dataframe thead th {\n",
       "        text-align: left;\n",
       "    }\n",
       "\n",
       "    .dataframe tbody tr th {\n",
       "        vertical-align: top;\n",
       "    }\n",
       "</style>\n",
       "<table border=\"1\" class=\"dataframe\">\n",
       "  <thead>\n",
       "    <tr style=\"text-align: right;\">\n",
       "      <th></th>\n",
       "      <th>YEARMODA</th>\n",
       "      <th>TEMP</th>\n",
       "      <th>VISIB</th>\n",
       "      <th>PRCP</th>\n",
       "      <th>date</th>\n",
       "    </tr>\n",
       "  </thead>\n",
       "  <tbody>\n",
       "    <tr>\n",
       "      <th>1086</th>\n",
       "      <td>20171228</td>\n",
       "      <td>59.500000</td>\n",
       "      <td>6.2</td>\n",
       "      <td>0.24</td>\n",
       "      <td>2017-12-28</td>\n",
       "    </tr>\n",
       "    <tr>\n",
       "      <th>1087</th>\n",
       "      <td>20171229</td>\n",
       "      <td>60.400002</td>\n",
       "      <td>6.4</td>\n",
       "      <td>0.20</td>\n",
       "      <td>2017-12-29</td>\n",
       "    </tr>\n",
       "    <tr>\n",
       "      <th>1088</th>\n",
       "      <td>20171230</td>\n",
       "      <td>64.500000</td>\n",
       "      <td>6.8</td>\n",
       "      <td>0.00</td>\n",
       "      <td>2017-12-30</td>\n",
       "    </tr>\n",
       "  </tbody>\n",
       "</table>\n",
       "</div>"
      ],
      "text/plain": [
       "      YEARMODA       TEMP  VISIB  PRCP       date\n",
       "1086  20171228  59.500000    6.2  0.24 2017-12-28\n",
       "1087  20171229  60.400002    6.4  0.20 2017-12-29\n",
       "1088  20171230  64.500000    6.8  0.00 2017-12-30"
      ]
     },
     "execution_count": 12,
     "metadata": {},
     "output_type": "execute_result"
    }
   ],
   "source": [
    "weather.tail(3)"
   ]
  },
  {
   "cell_type": "code",
   "execution_count": 45,
   "metadata": {
    "collapsed": true
   },
   "outputs": [],
   "source": [
    "weather_m1 = weather.copy()\n",
    "weather_m1[\"date\"] = weather[\"date\"] - timedelta(days=1)\n",
    "weather_m1 = weather_m1.rename(columns={'TEMP': 'TEMP_M1', 'VISIB': 'VISIB_M1', 'PRCP': 'PRCP_M1'})\n"
   ]
  },
  {
   "cell_type": "code",
   "execution_count": 46,
   "metadata": {},
   "outputs": [
    {
     "data": {
      "text/html": [
       "<div>\n",
       "<style>\n",
       "    .dataframe thead tr:only-child th {\n",
       "        text-align: right;\n",
       "    }\n",
       "\n",
       "    .dataframe thead th {\n",
       "        text-align: left;\n",
       "    }\n",
       "\n",
       "    .dataframe tbody tr th {\n",
       "        vertical-align: top;\n",
       "    }\n",
       "</style>\n",
       "<table border=\"1\" class=\"dataframe\">\n",
       "  <thead>\n",
       "    <tr style=\"text-align: right;\">\n",
       "      <th></th>\n",
       "      <th>TEMP_M1</th>\n",
       "      <th>VISIB_M1</th>\n",
       "      <th>PRCP_M1</th>\n",
       "      <th>date</th>\n",
       "    </tr>\n",
       "  </thead>\n",
       "  <tbody>\n",
       "    <tr>\n",
       "      <th>0</th>\n",
       "      <td>61.099998</td>\n",
       "      <td>7.8</td>\n",
       "      <td>0.0</td>\n",
       "      <td>2014-01-01</td>\n",
       "    </tr>\n",
       "  </tbody>\n",
       "</table>\n",
       "</div>"
      ],
      "text/plain": [
       "     TEMP_M1  VISIB_M1  PRCP_M1       date\n",
       "0  61.099998       7.8      0.0 2014-01-01"
      ]
     },
     "execution_count": 46,
     "metadata": {},
     "output_type": "execute_result"
    }
   ],
   "source": [
    "weather_m1.head(1)"
   ]
  },
  {
   "cell_type": "code",
   "execution_count": 66,
   "metadata": {
    "collapsed": true
   },
   "outputs": [],
   "source": [
    "weather_m1 = weather.copy()\n",
    "weather_m1[\"date\"] = weather[\"date\"] - timedelta(days=1)\n",
    "weather_m1 = weather_m1.rename(columns={'TEMP': 'TEMP_M1', 'VISIB': 'VISIB_M1', 'PRCP': 'PRCP_M1'})\n",
    "\n",
    "\n",
    "weather_m2 = weather.copy()\n",
    "weather_m2[\"date\"] = weather[\"date\"] - timedelta(days=2)\n",
    "weather_m2 = weather_m2.rename(columns={'TEMP': 'TEMP_M2', 'VISIB': 'VISIB_M2', 'PRCP': 'PRCP_M2'})\n",
    "\n",
    "weather_m3 = weather.copy()\n",
    "weather_m3[\"date\"] = weather[\"date\"] - timedelta(days=3)\n",
    "weather_m3 = weather_m3.rename(columns={'TEMP': 'TEMP_M3', 'VISIB': 'VISIB_M3', 'PRCP': 'PRCP_M3'})\n",
    "\n",
    "weather_p1 = weather.copy()\n",
    "weather_p1[\"date\"] = weather[\"date\"] - timedelta(days=1)\n",
    "weather_p1 = weather_p1.rename(columns={'TEMP': 'TEMP_P1', 'VISIB': 'VISIB_P1', 'PRCP': 'PRCP_P1'})\n",
    "\n",
    "weather_p2 = weather.copy()\n",
    "weather_p2[\"date\"] = weather[\"date\"] - timedelta(days=2)\n",
    "weather_p2 = weather_p2.rename(columns={'TEMP': 'TEMP_P2', 'VISIB': 'VISIB_P2', 'PRCP': 'PRCP_P2'})\n",
    "\n",
    "weather_p3 = weather.copy()\n",
    "weather_p3[\"date\"] = weather[\"date\"] - timedelta(days=3)\n",
    "weather_p3 = weather_p3.rename(columns={'TEMP': 'TEMP_P3', 'VISIB': 'VISIB_P3', 'PRCP': 'PRCP_P3'})\n",
    "\n"
   ]
  },
  {
   "cell_type": "code",
   "execution_count": null,
   "metadata": {
    "collapsed": true
   },
   "outputs": [],
   "source": []
  },
  {
   "cell_type": "code",
   "execution_count": 22,
   "metadata": {},
   "outputs": [
    {
     "data": {
      "text/html": [
       "<div>\n",
       "<style>\n",
       "    .dataframe thead tr:only-child th {\n",
       "        text-align: right;\n",
       "    }\n",
       "\n",
       "    .dataframe thead th {\n",
       "        text-align: left;\n",
       "    }\n",
       "\n",
       "    .dataframe tbody tr th {\n",
       "        vertical-align: top;\n",
       "    }\n",
       "</style>\n",
       "<table border=\"1\" class=\"dataframe\">\n",
       "  <thead>\n",
       "    <tr style=\"text-align: right;\">\n",
       "      <th></th>\n",
       "      <th>TEMP</th>\n",
       "      <th>VISIB</th>\n",
       "      <th>PRCP</th>\n",
       "      <th>date</th>\n",
       "    </tr>\n",
       "  </thead>\n",
       "  <tbody>\n",
       "    <tr>\n",
       "      <th>1086</th>\n",
       "      <td>59.500000</td>\n",
       "      <td>6.2</td>\n",
       "      <td>0.24</td>\n",
       "      <td>2017-12-27</td>\n",
       "    </tr>\n",
       "    <tr>\n",
       "      <th>1087</th>\n",
       "      <td>60.400002</td>\n",
       "      <td>6.4</td>\n",
       "      <td>0.20</td>\n",
       "      <td>2017-12-28</td>\n",
       "    </tr>\n",
       "    <tr>\n",
       "      <th>1088</th>\n",
       "      <td>64.500000</td>\n",
       "      <td>6.8</td>\n",
       "      <td>0.00</td>\n",
       "      <td>2017-12-29</td>\n",
       "    </tr>\n",
       "  </tbody>\n",
       "</table>\n",
       "</div>"
      ],
      "text/plain": [
       "           TEMP  VISIB  PRCP       date\n",
       "1086  59.500000    6.2  0.24 2017-12-27\n",
       "1087  60.400002    6.4  0.20 2017-12-28\n",
       "1088  64.500000    6.8  0.00 2017-12-29"
      ]
     },
     "execution_count": 22,
     "metadata": {},
     "output_type": "execute_result"
    }
   ],
   "source": [
    "weather_m1.tail(3)"
   ]
  },
  {
   "cell_type": "code",
   "execution_count": 67,
   "metadata": {},
   "outputs": [],
   "source": [
    "weather = pd.merge(weather, weather_m1, on = 'date', how = 'inner')\n",
    "weather = pd.merge(weather, weather_m2, on = 'date', how = 'inner')\n",
    "weather = pd.merge(weather, weather_m3, on = 'date', how = 'inner')\n",
    "weather = pd.merge(weather, weather_p1, on = 'date', how = 'inner')\n",
    "weather = pd.merge(weather, weather_p2, on = 'date', how = 'inner')\n",
    "weather = pd.merge(weather, weather_p3, on = 'date', how = 'inner')"
   ]
  },
  {
   "cell_type": "code",
   "execution_count": 68,
   "metadata": {},
   "outputs": [
    {
     "name": "stdout",
     "output_type": "stream",
     "text": [
      "<class 'pandas.core.frame.DataFrame'>\n",
      "Int64Index: 972 entries, 0 to 971\n",
      "Data columns (total 22 columns):\n",
      "TEMP        972 non-null float32\n",
      "VISIB       972 non-null float32\n",
      "PRCP        972 non-null float32\n",
      "date        972 non-null datetime64[ns]\n",
      "TEMP_M1     972 non-null float32\n",
      "VISIB_M1    972 non-null float32\n",
      "PRCP_M1     972 non-null float32\n",
      "TEMP_M2     972 non-null float32\n",
      "VISIB_M2    972 non-null float32\n",
      "PRCP_M2     972 non-null float32\n",
      "TEMP_M3     972 non-null float32\n",
      "VISIB_M3    972 non-null float32\n",
      "PRCP_M3     972 non-null float32\n",
      "TEMP_P1     972 non-null float32\n",
      "VISIB_P1    972 non-null float32\n",
      "PRCP_P1     972 non-null float32\n",
      "TEMP_P2     972 non-null float32\n",
      "VISIB_P2    972 non-null float32\n",
      "PRCP_P2     972 non-null float32\n",
      "TEMP_P3     972 non-null float32\n",
      "VISIB_P3    972 non-null float32\n",
      "PRCP_P3     972 non-null float32\n",
      "dtypes: datetime64[ns](1), float32(21)\n",
      "memory usage: 94.9 KB\n"
     ]
    }
   ],
   "source": [
    "weather.info()"
   ]
  }
 ],
 "metadata": {
  "kernelspec": {
   "display_name": "Python 3",
   "language": "python",
   "name": "python3"
  },
  "language_info": {
   "codemirror_mode": {
    "name": "ipython",
    "version": 3
   },
   "file_extension": ".py",
   "mimetype": "text/x-python",
   "name": "python",
   "nbconvert_exporter": "python",
   "pygments_lexer": "ipython3",
   "version": "3.6.3"
  }
 },
 "nbformat": 4,
 "nbformat_minor": 2
}
