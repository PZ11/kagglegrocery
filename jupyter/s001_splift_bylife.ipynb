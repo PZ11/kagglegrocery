{
 "cells": [
  {
   "cell_type": "code",
   "execution_count": 28,
   "metadata": {},
   "outputs": [
    {
     "name": "stderr",
     "output_type": "stream",
     "text": [
      "/home/zyp/anaconda3/lib/python3.6/site-packages/IPython/core/interactiveshell.py:2698: DtypeWarning: Columns (5) have mixed types. Specify dtype option on import or set low_memory=False.\n",
      "  interactivity=interactivity, compiler=compiler, result=result)\n"
     ]
    }
   ],
   "source": [
    "\"\"\"\n",
    "This is an upgraded version of Ceshine's LGBM starter script, simply adding more\n",
    "average features and weekly average features on it.\n",
    "\"\"\"\n",
    "from datetime import date, timedelta\n",
    "\n",
    "import pandas as pd\n",
    "import numpy as np\n",
    "from sklearn.metrics import mean_squared_error\n",
    "\n",
    "import xgboost as xgb\n",
    "import sys\n",
    "\n",
    "import math\n",
    "import sklearn.metrics as skl_metrics\n",
    "\n",
    "from datetime import timedelta\n",
    "from logging import StreamHandler, DEBUG, Formatter, FileHandler, getLogger\n",
    "\n",
    "df_train = pd.read_csv(\n",
    "    '../input/train_1s.csv', usecols=[1, 2, 3, 4, 5],\n",
    "    dtype={'onpromotion': bool},\n",
    "    parse_dates=[\"date\"],\n",
    ")\n",
    "\n",
    "df_test = pd.read_csv(\n",
    "    \"../input/test_1s.csv\", usecols=[0, 1, 2, 3, 4],\n",
    "    dtype={'onpromotion': bool},\n",
    "    parse_dates=[\"date\"]  # , date_parser=parser\n",
    ")\n",
    "\n",
    "\n",
    "df_train_mindate = df_train[['item_nbr','store_nbr','date']].groupby(['item_nbr','store_nbr'])\\\n",
    "    ['date'].min().to_frame('min_date')\n",
    "    \n",
    "df_train_mindate.reset_index(inplace=True)\n",
    "\n"
   ]
  },
  {
   "cell_type": "code",
   "execution_count": 41,
   "metadata": {},
   "outputs": [],
   "source": [
    "df_train_mindate['date'] = df_train_mindate['min_date']"
   ]
  },
  {
   "cell_type": "code",
   "execution_count": 62,
   "metadata": {},
   "outputs": [
    {
     "name": "stdout",
     "output_type": "stream",
     "text": [
      "<class 'pandas.core.frame.DataFrame'>\n",
      "RangeIndex: 2562153 entries, 0 to 2562152\n",
      "Data columns (total 5 columns):\n",
      "date           datetime64[ns]\n",
      "store_nbr      int64\n",
      "item_nbr       int64\n",
      "unit_sales     float64\n",
      "onpromotion    object\n",
      "dtypes: datetime64[ns](1), float64(1), int64(2), object(1)\n",
      "memory usage: 97.7+ MB\n"
     ]
    }
   ],
   "source": [
    "df_train.info()"
   ]
  },
  {
   "cell_type": "code",
   "execution_count": 42,
   "metadata": {},
   "outputs": [
    {
     "name": "stdout",
     "output_type": "stream",
     "text": [
      "<class 'pandas.core.frame.DataFrame'>\n",
      "RangeIndex: 3567 entries, 0 to 3566\n",
      "Data columns (total 4 columns):\n",
      "item_nbr     3567 non-null int64\n",
      "store_nbr    3567 non-null int64\n",
      "min_date     3567 non-null datetime64[ns]\n",
      "date         3567 non-null datetime64[ns]\n",
      "dtypes: datetime64[ns](2), int64(2)\n",
      "memory usage: 111.5 KB\n"
     ]
    }
   ],
   "source": [
    "df_train_mindate.info()"
   ]
  },
  {
   "cell_type": "code",
   "execution_count": 43,
   "metadata": {},
   "outputs": [],
   "source": [
    "df_train_p = df_train_mindate.loc[ (df_train_mindate['date'] >'2016-08-10'),]\n",
    "df_train_m = df_train_mindate.loc[ (df_train_mindate['date'] <='2016-08-10'),]"
   ]
  },
  {
   "cell_type": "code",
   "execution_count": 32,
   "metadata": {},
   "outputs": [
    {
     "data": {
      "text/html": [
       "<div>\n",
       "<style>\n",
       "    .dataframe thead tr:only-child th {\n",
       "        text-align: right;\n",
       "    }\n",
       "\n",
       "    .dataframe thead th {\n",
       "        text-align: left;\n",
       "    }\n",
       "\n",
       "    .dataframe tbody tr th {\n",
       "        vertical-align: top;\n",
       "    }\n",
       "</style>\n",
       "<table border=\"1\" class=\"dataframe\">\n",
       "  <thead>\n",
       "    <tr style=\"text-align: right;\">\n",
       "      <th></th>\n",
       "      <th>item_nbr</th>\n",
       "      <th>store_nbr</th>\n",
       "      <th>min_date</th>\n",
       "    </tr>\n",
       "  </thead>\n",
       "  <tbody>\n",
       "    <tr>\n",
       "      <th>1000</th>\n",
       "      <td>849098</td>\n",
       "      <td>1</td>\n",
       "      <td>2016-11-04</td>\n",
       "    </tr>\n",
       "    <tr>\n",
       "      <th>1060</th>\n",
       "      <td>876224</td>\n",
       "      <td>1</td>\n",
       "      <td>2016-11-07</td>\n",
       "    </tr>\n",
       "    <tr>\n",
       "      <th>1061</th>\n",
       "      <td>876225</td>\n",
       "      <td>1</td>\n",
       "      <td>2016-12-27</td>\n",
       "    </tr>\n",
       "    <tr>\n",
       "      <th>1062</th>\n",
       "      <td>876226</td>\n",
       "      <td>1</td>\n",
       "      <td>2016-12-28</td>\n",
       "    </tr>\n",
       "    <tr>\n",
       "      <th>1104</th>\n",
       "      <td>906980</td>\n",
       "      <td>1</td>\n",
       "      <td>2017-08-15</td>\n",
       "    </tr>\n",
       "  </tbody>\n",
       "</table>\n",
       "</div>"
      ],
      "text/plain": [
       "      item_nbr  store_nbr   min_date\n",
       "1000    849098          1 2016-11-04\n",
       "1060    876224          1 2016-11-07\n",
       "1061    876225          1 2016-12-27\n",
       "1062    876226          1 2016-12-28\n",
       "1104    906980          1 2017-08-15"
      ]
     },
     "execution_count": 32,
     "metadata": {},
     "output_type": "execute_result"
    }
   ],
   "source": [
    "df_train_p.head()"
   ]
  },
  {
   "cell_type": "code",
   "execution_count": 44,
   "metadata": {},
   "outputs": [
    {
     "name": "stdout",
     "output_type": "stream",
     "text": [
      "<class 'pandas.core.frame.DataFrame'>\n",
      "Int64Index: 3210 entries, 0 to 3400\n",
      "Data columns (total 4 columns):\n",
      "item_nbr     3210 non-null int64\n",
      "store_nbr    3210 non-null int64\n",
      "min_date     3210 non-null datetime64[ns]\n",
      "date         3210 non-null datetime64[ns]\n",
      "dtypes: datetime64[ns](2), int64(2)\n",
      "memory usage: 125.4 KB\n"
     ]
    }
   ],
   "source": [
    "df_train_m.info()"
   ]
  },
  {
   "cell_type": "code",
   "execution_count": 24,
   "metadata": {
    "collapsed": true
   },
   "outputs": [],
   "source": [
    "\n",
    "test_store_item = df_test[['item_nbr','store_nbr','date']].groupby(['item_nbr','store_nbr'])\\\n",
    "    ['date'].count().to_frame('cnt_date')\n",
    "test_store_item.reset_index(inplace=True)\n",
    "\n",
    "df_train_new = pd.merge(df_train,test_store_item,how = 'inner',on=['store_nbr','item_nbr'])\n"
   ]
  },
  {
   "cell_type": "code",
   "execution_count": 49,
   "metadata": {},
   "outputs": [],
   "source": [
    "train_m = pd.merge(df_train_new,df_train_m,how = 'inner',on=['store_nbr','item_nbr','date'])\n",
    "train_p = pd.merge(df_train_new,df_train_p,how = 'inner',on=['store_nbr','item_nbr','date'])\n"
   ]
  },
  {
   "cell_type": "code",
   "execution_count": 51,
   "metadata": {},
   "outputs": [],
   "source": [
    "train_m[['store_nbr', 'item_nbr', 'date', 'unit_sales','onpromotion']].to_pickle('../input/train_m.p')\n",
    "train_p[['store_nbr', 'item_nbr', 'date', 'unit_sales','onpromotion']].to_pickle('../input/train_p.p')"
   ]
  },
  {
   "cell_type": "code",
   "execution_count": 58,
   "metadata": {},
   "outputs": [
    {
     "name": "stdout",
     "output_type": "stream",
     "text": [
      "<class 'pandas.core.frame.DataFrame'>\n",
      "Int64Index: 1386 entries, 0 to 1385\n",
      "Data columns (total 6 columns):\n",
      "id             1386 non-null int64\n",
      "date           1386 non-null datetime64[ns]\n",
      "store_nbr      1386 non-null int64\n",
      "item_nbr       1386 non-null int64\n",
      "onpromotion    1386 non-null bool\n",
      "cnt_date       1386 non-null int64\n",
      "dtypes: bool(1), datetime64[ns](1), int64(4)\n",
      "memory usage: 66.3 KB\n",
      "mature  store/items in test None\n"
     ]
    }
   ],
   "source": [
    "train_m_store_item = train_m[['item_nbr','store_nbr','date']].groupby(['item_nbr','store_nbr'])\\\n",
    "    ['date'].count().to_frame('cnt_date')\n",
    "train_m_store_item.reset_index(inplace=True)\n",
    "test_m = pd.merge(df_test,train_m_store_item,how = 'inner',on=['store_nbr','item_nbr'])\n",
    "print(\"mature  store/items in test\", test_m.info())\n",
    "\n"
   ]
  },
  {
   "cell_type": "code",
   "execution_count": 60,
   "metadata": {},
   "outputs": [
    {
     "name": "stdout",
     "output_type": "stream",
     "text": [
      "<class 'pandas.core.frame.DataFrame'>\n",
      "Int64Index: 7 entries, 0 to 6\n",
      "Data columns (total 6 columns):\n",
      "id             7 non-null int64\n",
      "date           7 non-null datetime64[ns]\n",
      "store_nbr      7 non-null int64\n",
      "item_nbr       7 non-null int64\n",
      "onpromotion    7 non-null bool\n",
      "cnt_date       7 non-null int64\n",
      "dtypes: bool(1), datetime64[ns](1), int64(4)\n",
      "memory usage: 343.0 bytes\n",
      "partial store/items in test None\n"
     ]
    }
   ],
   "source": [
    "train_p_store_item = train_p[['item_nbr','store_nbr','date']].groupby(['item_nbr','store_nbr'])\\\n",
    "    ['date'].count().to_frame('cnt_date')\n",
    "train_p_store_item.reset_index(inplace=True)\n",
    "test_p= pd.merge(df_test,train_p_store_item,how = 'inner',on=['store_nbr','item_nbr'])\n",
    "print(\"partial store/items in test\", test_p.info())\n",
    "\n"
   ]
  },
  {
   "cell_type": "code",
   "execution_count": 61,
   "metadata": {
    "collapsed": true
   },
   "outputs": [],
   "source": [
    "test_m[['id','store_nbr', 'item_nbr', 'date', 'onpromotion']].to_pickle('../input/test_m.p')\n",
    "test_p[['id','store_nbr', 'item_nbr', 'date', 'onpromotion']].to_pickle('../input/test_p.p')"
   ]
  }
 ],
 "metadata": {
  "kernelspec": {
   "display_name": "Python 3",
   "language": "python",
   "name": "python3"
  },
  "language_info": {
   "codemirror_mode": {
    "name": "ipython",
    "version": 3
   },
   "file_extension": ".py",
   "mimetype": "text/x-python",
   "name": "python",
   "nbconvert_exporter": "python",
   "pygments_lexer": "ipython3",
   "version": "3.6.3"
  }
 },
 "nbformat": 4,
 "nbformat_minor": 2
}
