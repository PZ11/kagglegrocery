{
 "cells": [
  {
   "cell_type": "code",
   "execution_count": 8,
   "metadata": {},
   "outputs": [
    {
     "name": "stderr",
     "output_type": "stream",
     "text": [
      "2018-01-13 11:13:33,456 __main__ 38 [INFO]    [<module>] start \n",
      "2018-01-13 11:13:33,456 __main__ 38 [INFO]    [<module>] start \n",
      "2018-01-13 11:13:33,459 __main__ 39 [INFO]    [<module>] start \n",
      "2018-01-13 11:13:33,459 __main__ 39 [INFO]    [<module>] start \n"
     ]
    }
   ],
   "source": [
    "\n",
    "\"\"\"\n",
    "This is an upgraded version of Ceshine's LGBM starter script, simply adding\n",
    "more average features and weekly average features on it.\n",
    "\"\"\"\n",
    "from datetime import date, timedelta\n",
    "\n",
    "import pandas as pd\n",
    "import numpy as np\n",
    "import lightgbm as lgb\n",
    "import sys\n",
    "import math\n",
    "import gc\n",
    "import sklearn.metrics as skl_metrics\n",
    "\n",
    "from load_data import load_input_data, add_missing_days\n",
    "\n",
    "from logging import StreamHandler, DEBUG, Formatter, FileHandler, getLogger\n",
    "\n",
    "logger = getLogger(__name__)\n",
    "\n",
    "pd.options.mode.chained_assignment = None  # default='warn'\n",
    "\n",
    "DIR = '../logs/'\n",
    "\n",
    "log_fmt = Formatter('%(asctime)s %(name)s %(lineno)d [%(levelname)s]\\\n",
    "    [%(funcName)s] %(message)s ')\n",
    "handler = StreamHandler()\n",
    "handler.setLevel('INFO')\n",
    "handler.setFormatter(log_fmt)\n",
    "logger.addHandler(handler)\n",
    "\n",
    "handler = FileHandler(DIR + 'train.py.log', 'a')\n",
    "handler.setLevel(DEBUG)\n",
    "handler.setFormatter(log_fmt)\n",
    "logger.setLevel(DEBUG)\n",
    "logger.addHandler(handler)\n",
    "\n",
    "logger.info('start')\n",
    "logger.info('start')\n",
    "\n",
    "\n",
    "\n",
    "param_1 = \"1s\"\n",
    "\n",
    "\n",
    "train_out, test_out = load_input_data(param_1)\n",
    "test_out = test_out.reset_index()\n",
    "\n",
    "####################################################################################\n",
    "###############################\n",
    "# Load store-items that has promo more than 75% of the sales week. \n",
    "\n",
    "reset_promo = pd.read_csv(\"../input/Reset_Flag_ContinuePromo.csv\",)\n",
    "reset_promo['new_onpromotion'] = False\n",
    "\n",
    "\n"
   ]
  },
  {
   "cell_type": "code",
   "execution_count": 17,
   "metadata": {},
   "outputs": [
    {
     "data": {
      "text/plain": [
       "item_nbr           53\n",
       "store_nbr          53\n",
       "new_onpromotion    53\n",
       "dtype: int64"
      ]
     },
     "execution_count": 17,
     "metadata": {},
     "output_type": "execute_result"
    }
   ],
   "source": [
    "reset_promo.loc[reset_promo['store_nbr']== 1, ].count()"
   ]
  },
  {
   "cell_type": "code",
   "execution_count": 10,
   "metadata": {},
   "outputs": [
    {
     "name": "stdout",
     "output_type": "stream",
     "text": [
      "onpromotion\n",
      "False    72435\n",
      "True      4352\n",
      "dtype: int64\n"
     ]
    }
   ],
   "source": [
    "print( test_out.groupby('onpromotion').size()) "
   ]
  },
  {
   "cell_type": "code",
   "execution_count": 18,
   "metadata": {
    "collapsed": true
   },
   "outputs": [],
   "source": [
    "\n",
    "###############################\n",
    "## !!!! Stupid way to set onpromotion to False \n",
    "\n",
    "test_out_new = pd.merge(test_out, reset_promo, on=('store_nbr', 'item_nbr'), how='left')\n",
    "test_out_new['onpromotion'] = test_out_new.new_onpromotion.combine_first(test_out_new.onpromotion)\n"
   ]
  },
  {
   "cell_type": "code",
   "execution_count": 20,
   "metadata": {
    "collapsed": true
   },
   "outputs": [],
   "source": [
    "t = pd.merge(test_out, reset_promo, on=('store_nbr', 'item_nbr'), how='inner')"
   ]
  },
  {
   "cell_type": "code",
   "execution_count": 25,
   "metadata": {},
   "outputs": [
    {
     "data": {
      "text/plain": [
       "95"
      ]
     },
     "execution_count": 25,
     "metadata": {},
     "output_type": "execute_result"
    }
   ],
   "source": [
    "t.onpromotion.astype(int).sum()"
   ]
  },
  {
   "cell_type": "code",
   "execution_count": 14,
   "metadata": {},
   "outputs": [
    {
     "data": {
      "text/html": [
       "<div>\n",
       "<style>\n",
       "    .dataframe thead tr:only-child th {\n",
       "        text-align: right;\n",
       "    }\n",
       "\n",
       "    .dataframe thead th {\n",
       "        text-align: left;\n",
       "    }\n",
       "\n",
       "    .dataframe tbody tr th {\n",
       "        vertical-align: top;\n",
       "    }\n",
       "</style>\n",
       "<table border=\"1\" class=\"dataframe\">\n",
       "  <thead>\n",
       "    <tr style=\"text-align: right;\">\n",
       "      <th></th>\n",
       "      <th>store_nbr</th>\n",
       "      <th>item_nbr</th>\n",
       "      <th>date</th>\n",
       "      <th>id</th>\n",
       "      <th>onpromotion</th>\n",
       "      <th>new_onpromotion</th>\n",
       "    </tr>\n",
       "  </thead>\n",
       "  <tbody>\n",
       "    <tr>\n",
       "      <th>0</th>\n",
       "      <td>1</td>\n",
       "      <td>510052</td>\n",
       "      <td>2017-08-16</td>\n",
       "      <td>125497618</td>\n",
       "      <td>False</td>\n",
       "      <td>NaN</td>\n",
       "    </tr>\n",
       "    <tr>\n",
       "      <th>1</th>\n",
       "      <td>1</td>\n",
       "      <td>510054</td>\n",
       "      <td>2017-08-16</td>\n",
       "      <td>125497619</td>\n",
       "      <td>False</td>\n",
       "      <td>NaN</td>\n",
       "    </tr>\n",
       "    <tr>\n",
       "      <th>2</th>\n",
       "      <td>1</td>\n",
       "      <td>510055</td>\n",
       "      <td>2017-08-16</td>\n",
       "      <td>125497620</td>\n",
       "      <td>False</td>\n",
       "      <td>NaN</td>\n",
       "    </tr>\n",
       "    <tr>\n",
       "      <th>3</th>\n",
       "      <td>1</td>\n",
       "      <td>510057</td>\n",
       "      <td>2017-08-16</td>\n",
       "      <td>125497621</td>\n",
       "      <td>False</td>\n",
       "      <td>NaN</td>\n",
       "    </tr>\n",
       "    <tr>\n",
       "      <th>4</th>\n",
       "      <td>1</td>\n",
       "      <td>511172</td>\n",
       "      <td>2017-08-16</td>\n",
       "      <td>125497622</td>\n",
       "      <td>False</td>\n",
       "      <td>NaN</td>\n",
       "    </tr>\n",
       "    <tr>\n",
       "      <th>5</th>\n",
       "      <td>1</td>\n",
       "      <td>511394</td>\n",
       "      <td>2017-08-16</td>\n",
       "      <td>125497623</td>\n",
       "      <td>False</td>\n",
       "      <td>NaN</td>\n",
       "    </tr>\n",
       "    <tr>\n",
       "      <th>6</th>\n",
       "      <td>1</td>\n",
       "      <td>511397</td>\n",
       "      <td>2017-08-16</td>\n",
       "      <td>125497624</td>\n",
       "      <td>False</td>\n",
       "      <td>NaN</td>\n",
       "    </tr>\n",
       "    <tr>\n",
       "      <th>7</th>\n",
       "      <td>1</td>\n",
       "      <td>513379</td>\n",
       "      <td>2017-08-16</td>\n",
       "      <td>125497625</td>\n",
       "      <td>False</td>\n",
       "      <td>NaN</td>\n",
       "    </tr>\n",
       "    <tr>\n",
       "      <th>8</th>\n",
       "      <td>1</td>\n",
       "      <td>513853</td>\n",
       "      <td>2017-08-16</td>\n",
       "      <td>125497626</td>\n",
       "      <td>False</td>\n",
       "      <td>NaN</td>\n",
       "    </tr>\n",
       "    <tr>\n",
       "      <th>9</th>\n",
       "      <td>1</td>\n",
       "      <td>513855</td>\n",
       "      <td>2017-08-16</td>\n",
       "      <td>125497627</td>\n",
       "      <td>False</td>\n",
       "      <td>NaN</td>\n",
       "    </tr>\n",
       "  </tbody>\n",
       "</table>\n",
       "</div>"
      ],
      "text/plain": [
       "   store_nbr  item_nbr       date         id onpromotion new_onpromotion\n",
       "0          1    510052 2017-08-16  125497618       False             NaN\n",
       "1          1    510054 2017-08-16  125497619       False             NaN\n",
       "2          1    510055 2017-08-16  125497620       False             NaN\n",
       "3          1    510057 2017-08-16  125497621       False             NaN\n",
       "4          1    511172 2017-08-16  125497622       False             NaN\n",
       "5          1    511394 2017-08-16  125497623       False             NaN\n",
       "6          1    511397 2017-08-16  125497624       False             NaN\n",
       "7          1    513379 2017-08-16  125497625       False             NaN\n",
       "8          1    513853 2017-08-16  125497626       False             NaN\n",
       "9          1    513855 2017-08-16  125497627       False             NaN"
      ]
     },
     "execution_count": 14,
     "metadata": {},
     "output_type": "execute_result"
    }
   ],
   "source": [
    "test_out_new.head(10)"
   ]
  },
  {
   "cell_type": "code",
   "execution_count": 19,
   "metadata": {},
   "outputs": [
    {
     "name": "stdout",
     "output_type": "stream",
     "text": [
      "onpromotion\n",
      "False    72435\n",
      "True      4352\n",
      "dtype: int64\n",
      "onpromotion\n",
      "False    72530\n",
      "True      4257\n",
      "dtype: int64\n",
      "(76787, 5)\n",
      "(76787, 2)\n"
     ]
    }
   ],
   "source": [
    "\n",
    "###############################\n",
    "## !!!! Stupid way to set onpromotion to False \n",
    "\n",
    "test_out_new = pd.merge(test_out, reset_promo, on=('store_nbr', 'item_nbr'), how='left')\n",
    "test_out_new['onpromotion'] = test_out_new.new_onpromotion.combine_first(test_out_new.onpromotion)\n",
    "\n",
    "del test_out_new['new_onpromotion']\n",
    "\n",
    "test_out_new= test_out_new.set_index(\n",
    "        ['store_nbr', 'item_nbr', 'date'])\n",
    "\n",
    "print( test_out.groupby('onpromotion').size()) \n",
    "print( test_out_new.groupby('onpromotion').size()) \n",
    "\n",
    "print( test_out.shape) \n",
    "print( test_out_new.shape) "
   ]
  }
 ],
 "metadata": {
  "kernelspec": {
   "display_name": "Python 3",
   "language": "python",
   "name": "python3"
  },
  "language_info": {
   "codemirror_mode": {
    "name": "ipython",
    "version": 3
   },
   "file_extension": ".py",
   "mimetype": "text/x-python",
   "name": "python",
   "nbconvert_exporter": "python",
   "pygments_lexer": "ipython3",
   "version": "3.6.3"
  }
 },
 "nbformat": 4,
 "nbformat_minor": 2
}
