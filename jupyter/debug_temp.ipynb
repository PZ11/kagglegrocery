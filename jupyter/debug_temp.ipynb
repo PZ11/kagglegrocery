{
 "cells": [
  {
   "cell_type": "code",
   "execution_count": 8,
   "metadata": {
    "collapsed": true
   },
   "outputs": [],
   "source": [
    "from datetime import date, timedelta\n",
    "\n",
    "import pandas as pd\n",
    "import numpy as np\n",
    "\n",
    "import math\n",
    "        \n",
    "    \n",
    "items = pd.read_csv('../input/items.csv',)\n",
    "items['cat'] = 1\n",
    "items = items[['item_nbr', 'family', 'cat']]"
   ]
  },
  {
   "cell_type": "code",
   "execution_count": 9,
   "metadata": {
    "scrolled": true
   },
   "outputs": [
    {
     "name": "stdout",
     "output_type": "stream",
     "text": [
      "<class 'pandas.core.frame.DataFrame'>\n",
      "MultiIndex: 4100 entries, (96995, GROCERY I) to (2134244, LIQUOR,WINE,BEER)\n",
      "Data columns (total 1 columns):\n",
      "cat    4100 non-null int64\n",
      "dtypes: int64(1)\n",
      "memory usage: 76.5+ KB\n"
     ]
    }
   ],
   "source": [
    "items.set_index(['item_nbr', 'family']).info()"
   ]
  },
  {
   "cell_type": "code",
   "execution_count": 60,
   "metadata": {
    "collapsed": true
   },
   "outputs": [],
   "source": [
    "items_cat = items.set_index(['item_nbr', 'family'])[['cat']].unstack(level = -1).fillna(False)\n",
    "items_cat = items_cat.reset_index()"
   ]
  },
  {
   "cell_type": "code",
   "execution_count": 61,
   "metadata": {},
   "outputs": [
    {
     "name": "stdout",
     "output_type": "stream",
     "text": [
      "<class 'pandas.core.frame.DataFrame'>\n",
      "RangeIndex: 4100 entries, 0 to 4099\n",
      "Data columns (total 34 columns):\n",
      "(item_nbr, )                         4100 non-null int64\n",
      "(cat, AUTOMOTIVE)                    4100 non-null float64\n",
      "(cat, BABY CARE)                     4100 non-null float64\n",
      "(cat, BEAUTY)                        4100 non-null float64\n",
      "(cat, BEVERAGES)                     4100 non-null float64\n",
      "(cat, BOOKS)                         4100 non-null float64\n",
      "(cat, BREAD/BAKERY)                  4100 non-null float64\n",
      "(cat, CELEBRATION)                   4100 non-null float64\n",
      "(cat, CLEANING)                      4100 non-null float64\n",
      "(cat, DAIRY)                         4100 non-null float64\n",
      "(cat, DELI)                          4100 non-null float64\n",
      "(cat, EGGS)                          4100 non-null float64\n",
      "(cat, FROZEN FOODS)                  4100 non-null float64\n",
      "(cat, GROCERY I)                     4100 non-null float64\n",
      "(cat, GROCERY II)                    4100 non-null float64\n",
      "(cat, HARDWARE)                      4100 non-null float64\n",
      "(cat, HOME AND KITCHEN I)            4100 non-null float64\n",
      "(cat, HOME AND KITCHEN II)           4100 non-null float64\n",
      "(cat, HOME APPLIANCES)               4100 non-null float64\n",
      "(cat, HOME CARE)                     4100 non-null float64\n",
      "(cat, LADIESWEAR)                    4100 non-null float64\n",
      "(cat, LAWN AND GARDEN)               4100 non-null float64\n",
      "(cat, LINGERIE)                      4100 non-null float64\n",
      "(cat, LIQUOR,WINE,BEER)              4100 non-null float64\n",
      "(cat, MAGAZINES)                     4100 non-null float64\n",
      "(cat, MEATS)                         4100 non-null float64\n",
      "(cat, PERSONAL CARE)                 4100 non-null float64\n",
      "(cat, PET SUPPLIES)                  4100 non-null float64\n",
      "(cat, PLAYERS AND ELECTRONICS)       4100 non-null float64\n",
      "(cat, POULTRY)                       4100 non-null float64\n",
      "(cat, PREPARED FOODS)                4100 non-null float64\n",
      "(cat, PRODUCE)                       4100 non-null float64\n",
      "(cat, SCHOOL AND OFFICE SUPPLIES)    4100 non-null float64\n",
      "(cat, SEAFOOD)                       4100 non-null float64\n",
      "dtypes: float64(33), int64(1)\n",
      "memory usage: 1.1 MB\n"
     ]
    }
   ],
   "source": [
    "items_cat.info()"
   ]
  },
  {
   "cell_type": "code",
   "execution_count": 76,
   "metadata": {},
   "outputs": [],
   "source": [
    "items_cat.columns =  items_cat.columns.get_level_values(1)"
   ]
  },
  {
   "cell_type": "code",
   "execution_count": 78,
   "metadata": {},
   "outputs": [],
   "source": [
    "items_cat = items_cat.reset_index()"
   ]
  },
  {
   "cell_type": "code",
   "execution_count": 75,
   "metadata": {},
   "outputs": [
    {
     "data": {
      "text/plain": [
       "Index(['', 'AUTOMOTIVE', 'BABY CARE', 'BEAUTY', 'BEVERAGES', 'BOOKS',\n",
       "       'BREAD/BAKERY', 'CELEBRATION', 'CLEANING', 'DAIRY', 'DELI', 'EGGS',\n",
       "       'FROZEN FOODS', 'GROCERY I', 'GROCERY II', 'HARDWARE',\n",
       "       'HOME AND KITCHEN I', 'HOME AND KITCHEN II', 'HOME APPLIANCES',\n",
       "       'HOME CARE', 'LADIESWEAR', 'LAWN AND GARDEN', 'LINGERIE',\n",
       "       'LIQUOR,WINE,BEER', 'MAGAZINES', 'MEATS', 'PERSONAL CARE',\n",
       "       'PET SUPPLIES', 'PLAYERS AND ELECTRONICS', 'POULTRY', 'PREPARED FOODS',\n",
       "       'PRODUCE', 'SCHOOL AND OFFICE SUPPLIES', 'SEAFOOD'],\n",
       "      dtype='object', name='family')"
      ]
     },
     "execution_count": 75,
     "metadata": {},
     "output_type": "execute_result"
    }
   ],
   "source": [
    "item_column_name"
   ]
  },
  {
   "cell_type": "code",
   "execution_count": 66,
   "metadata": {},
   "outputs": [
    {
     "ename": "TypeError",
     "evalue": "Index does not support mutable operations",
     "output_type": "error",
     "traceback": [
      "\u001b[0;31m---------------------------------------------------------------------------\u001b[0m",
      "\u001b[0;31mTypeError\u001b[0m                                 Traceback (most recent call last)",
      "\u001b[0;32m<ipython-input-66-8a8516eedf09>\u001b[0m in \u001b[0;36m<module>\u001b[0;34m()\u001b[0m\n\u001b[0;32m----> 1\u001b[0;31m \u001b[0mitem_column_name\u001b[0m\u001b[0;34m[\u001b[0m\u001b[0;36m1\u001b[0m\u001b[0;34m]\u001b[0m \u001b[0;34m=\u001b[0m \u001b[0;34m'item_nbr'\u001b[0m\u001b[0;34m\u001b[0m\u001b[0m\n\u001b[0m",
      "\u001b[0;32m~/anaconda3/lib/python3.6/site-packages/pandas/core/indexes/base.py\u001b[0m in \u001b[0;36m__setitem__\u001b[0;34m(self, key, value)\u001b[0m\n\u001b[1;32m   1668\u001b[0m \u001b[0;34m\u001b[0m\u001b[0m\n\u001b[1;32m   1669\u001b[0m     \u001b[0;32mdef\u001b[0m \u001b[0m__setitem__\u001b[0m\u001b[0;34m(\u001b[0m\u001b[0mself\u001b[0m\u001b[0;34m,\u001b[0m \u001b[0mkey\u001b[0m\u001b[0;34m,\u001b[0m \u001b[0mvalue\u001b[0m\u001b[0;34m)\u001b[0m\u001b[0;34m:\u001b[0m\u001b[0;34m\u001b[0m\u001b[0m\n\u001b[0;32m-> 1670\u001b[0;31m         \u001b[0;32mraise\u001b[0m \u001b[0mTypeError\u001b[0m\u001b[0;34m(\u001b[0m\u001b[0;34m\"Index does not support mutable operations\"\u001b[0m\u001b[0;34m)\u001b[0m\u001b[0;34m\u001b[0m\u001b[0m\n\u001b[0m\u001b[1;32m   1671\u001b[0m \u001b[0;34m\u001b[0m\u001b[0m\n\u001b[1;32m   1672\u001b[0m     \u001b[0;32mdef\u001b[0m \u001b[0m__getitem__\u001b[0m\u001b[0;34m(\u001b[0m\u001b[0mself\u001b[0m\u001b[0;34m,\u001b[0m \u001b[0mkey\u001b[0m\u001b[0;34m)\u001b[0m\u001b[0;34m:\u001b[0m\u001b[0;34m\u001b[0m\u001b[0m\n",
      "\u001b[0;31mTypeError\u001b[0m: Index does not support mutable operations"
     ]
    }
   ],
   "source": [
    "item_column_name[1] = 'item_nbr'"
   ]
  },
  {
   "cell_type": "code",
   "execution_count": 51,
   "metadata": {},
   "outputs": [],
   "source": [
    "items_cat.columns.values[0] = 'items_nbr'"
   ]
  },
  {
   "cell_type": "code",
   "execution_count": 57,
   "metadata": {},
   "outputs": [
    {
     "name": "stdout",
     "output_type": "stream",
     "text": [
      "<class 'pandas.core.frame.DataFrame'>\n",
      "RangeIndex: 4100 entries, 0 to 4099\n",
      "Data columns (total 34 columns):\n",
      "                              4100 non-null int64\n",
      "AUTOMOTIVE                    4100 non-null float64\n",
      "BABY CARE                     4100 non-null float64\n",
      "BEAUTY                        4100 non-null float64\n",
      "BEVERAGES                     4100 non-null float64\n",
      "BOOKS                         4100 non-null float64\n",
      "BREAD/BAKERY                  4100 non-null float64\n",
      "CELEBRATION                   4100 non-null float64\n",
      "CLEANING                      4100 non-null float64\n",
      "DAIRY                         4100 non-null float64\n",
      "DELI                          4100 non-null float64\n",
      "EGGS                          4100 non-null float64\n",
      "FROZEN FOODS                  4100 non-null float64\n",
      "GROCERY I                     4100 non-null float64\n",
      "GROCERY II                    4100 non-null float64\n",
      "HARDWARE                      4100 non-null float64\n",
      "HOME AND KITCHEN I            4100 non-null float64\n",
      "HOME AND KITCHEN II           4100 non-null float64\n",
      "HOME APPLIANCES               4100 non-null float64\n",
      "HOME CARE                     4100 non-null float64\n",
      "LADIESWEAR                    4100 non-null float64\n",
      "LAWN AND GARDEN               4100 non-null float64\n",
      "LINGERIE                      4100 non-null float64\n",
      "LIQUOR,WINE,BEER              4100 non-null float64\n",
      "MAGAZINES                     4100 non-null float64\n",
      "MEATS                         4100 non-null float64\n",
      "PERSONAL CARE                 4100 non-null float64\n",
      "PET SUPPLIES                  4100 non-null float64\n",
      "PLAYERS AND ELECTRONICS       4100 non-null float64\n",
      "POULTRY                       4100 non-null float64\n",
      "PREPARED FOODS                4100 non-null float64\n",
      "PRODUCE                       4100 non-null float64\n",
      "SCHOOL AND OFFICE SUPPLIES    4100 non-null float64\n",
      "SEAFOOD                       4100 non-null float64\n",
      "dtypes: float64(33), int64(1)\n",
      "memory usage: 1.1 MB\n"
     ]
    }
   ],
   "source": [
    "items_cat.info()"
   ]
  },
  {
   "cell_type": "code",
   "execution_count": 43,
   "metadata": {},
   "outputs": [
    {
     "ename": "KeyError",
     "evalue": "'family'",
     "output_type": "error",
     "traceback": [
      "\u001b[0;31m---------------------------------------------------------------------------\u001b[0m",
      "\u001b[0;31mKeyError\u001b[0m                                  Traceback (most recent call last)",
      "\u001b[0;32m~/anaconda3/lib/python3.6/site-packages/pandas/core/indexes/base.py\u001b[0m in \u001b[0;36mget_loc\u001b[0;34m(self, key, method, tolerance)\u001b[0m\n\u001b[1;32m   2441\u001b[0m             \u001b[0;32mtry\u001b[0m\u001b[0;34m:\u001b[0m\u001b[0;34m\u001b[0m\u001b[0m\n\u001b[0;32m-> 2442\u001b[0;31m                 \u001b[0;32mreturn\u001b[0m \u001b[0mself\u001b[0m\u001b[0;34m.\u001b[0m\u001b[0m_engine\u001b[0m\u001b[0;34m.\u001b[0m\u001b[0mget_loc\u001b[0m\u001b[0;34m(\u001b[0m\u001b[0mkey\u001b[0m\u001b[0;34m)\u001b[0m\u001b[0;34m\u001b[0m\u001b[0m\n\u001b[0m\u001b[1;32m   2443\u001b[0m             \u001b[0;32mexcept\u001b[0m \u001b[0mKeyError\u001b[0m\u001b[0;34m:\u001b[0m\u001b[0;34m\u001b[0m\u001b[0m\n",
      "\u001b[0;32mpandas/_libs/index.pyx\u001b[0m in \u001b[0;36mpandas._libs.index.IndexEngine.get_loc\u001b[0;34m()\u001b[0m\n",
      "\u001b[0;32mpandas/_libs/index.pyx\u001b[0m in \u001b[0;36mpandas._libs.index.IndexEngine.get_loc\u001b[0;34m()\u001b[0m\n",
      "\u001b[0;32mpandas/_libs/hashtable_class_helper.pxi\u001b[0m in \u001b[0;36mpandas._libs.hashtable.PyObjectHashTable.get_item\u001b[0;34m()\u001b[0m\n",
      "\u001b[0;32mpandas/_libs/hashtable_class_helper.pxi\u001b[0m in \u001b[0;36mpandas._libs.hashtable.PyObjectHashTable.get_item\u001b[0;34m()\u001b[0m\n",
      "\u001b[0;31mKeyError\u001b[0m: 'family'",
      "\nDuring handling of the above exception, another exception occurred:\n",
      "\u001b[0;31mKeyError\u001b[0m                                  Traceback (most recent call last)",
      "\u001b[0;32m<ipython-input-43-2af86a582dc7>\u001b[0m in \u001b[0;36m<module>\u001b[0;34m()\u001b[0m\n\u001b[0;32m----> 1\u001b[0;31m \u001b[0;32mdel\u001b[0m \u001b[0mitems_cat\u001b[0m\u001b[0;34m[\u001b[0m\u001b[0;34m'family'\u001b[0m\u001b[0;34m]\u001b[0m\u001b[0;34m\u001b[0m\u001b[0m\n\u001b[0m",
      "\u001b[0;32m~/anaconda3/lib/python3.6/site-packages/pandas/core/generic.py\u001b[0m in \u001b[0;36m__delitem__\u001b[0;34m(self, key)\u001b[0m\n\u001b[1;32m   1899\u001b[0m             \u001b[0;31m# there was no match, this call should raise the appropriate\u001b[0m\u001b[0;34m\u001b[0m\u001b[0;34m\u001b[0m\u001b[0m\n\u001b[1;32m   1900\u001b[0m             \u001b[0;31m# exception:\u001b[0m\u001b[0;34m\u001b[0m\u001b[0;34m\u001b[0m\u001b[0m\n\u001b[0;32m-> 1901\u001b[0;31m             \u001b[0mself\u001b[0m\u001b[0;34m.\u001b[0m\u001b[0m_data\u001b[0m\u001b[0;34m.\u001b[0m\u001b[0mdelete\u001b[0m\u001b[0;34m(\u001b[0m\u001b[0mkey\u001b[0m\u001b[0;34m)\u001b[0m\u001b[0;34m\u001b[0m\u001b[0m\n\u001b[0m\u001b[1;32m   1902\u001b[0m \u001b[0;34m\u001b[0m\u001b[0m\n\u001b[1;32m   1903\u001b[0m         \u001b[0;31m# delete from the caches\u001b[0m\u001b[0;34m\u001b[0m\u001b[0;34m\u001b[0m\u001b[0m\n",
      "\u001b[0;32m~/anaconda3/lib/python3.6/site-packages/pandas/core/internals.py\u001b[0m in \u001b[0;36mdelete\u001b[0;34m(self, item)\u001b[0m\n\u001b[1;32m   3647\u001b[0m         \u001b[0mDelete\u001b[0m \u001b[0mselected\u001b[0m \u001b[0mitem\u001b[0m \u001b[0;34m(\u001b[0m\u001b[0mitems\u001b[0m \u001b[0;32mif\u001b[0m \u001b[0mnon\u001b[0m\u001b[0;34m-\u001b[0m\u001b[0munique\u001b[0m\u001b[0;34m)\u001b[0m \u001b[0;32min\u001b[0m\u001b[0;34m-\u001b[0m\u001b[0mplace\u001b[0m\u001b[0;34m.\u001b[0m\u001b[0;34m\u001b[0m\u001b[0m\n\u001b[1;32m   3648\u001b[0m         \"\"\"\n\u001b[0;32m-> 3649\u001b[0;31m         \u001b[0mindexer\u001b[0m \u001b[0;34m=\u001b[0m \u001b[0mself\u001b[0m\u001b[0;34m.\u001b[0m\u001b[0mitems\u001b[0m\u001b[0;34m.\u001b[0m\u001b[0mget_loc\u001b[0m\u001b[0;34m(\u001b[0m\u001b[0mitem\u001b[0m\u001b[0;34m)\u001b[0m\u001b[0;34m\u001b[0m\u001b[0m\n\u001b[0m\u001b[1;32m   3650\u001b[0m \u001b[0;34m\u001b[0m\u001b[0m\n\u001b[1;32m   3651\u001b[0m         \u001b[0mis_deleted\u001b[0m \u001b[0;34m=\u001b[0m \u001b[0mnp\u001b[0m\u001b[0;34m.\u001b[0m\u001b[0mzeros\u001b[0m\u001b[0;34m(\u001b[0m\u001b[0mself\u001b[0m\u001b[0;34m.\u001b[0m\u001b[0mshape\u001b[0m\u001b[0;34m[\u001b[0m\u001b[0;36m0\u001b[0m\u001b[0;34m]\u001b[0m\u001b[0;34m,\u001b[0m \u001b[0mdtype\u001b[0m\u001b[0;34m=\u001b[0m\u001b[0mnp\u001b[0m\u001b[0;34m.\u001b[0m\u001b[0mbool_\u001b[0m\u001b[0;34m)\u001b[0m\u001b[0;34m\u001b[0m\u001b[0m\n",
      "\u001b[0;32m~/anaconda3/lib/python3.6/site-packages/pandas/core/indexes/base.py\u001b[0m in \u001b[0;36mget_loc\u001b[0;34m(self, key, method, tolerance)\u001b[0m\n\u001b[1;32m   2442\u001b[0m                 \u001b[0;32mreturn\u001b[0m \u001b[0mself\u001b[0m\u001b[0;34m.\u001b[0m\u001b[0m_engine\u001b[0m\u001b[0;34m.\u001b[0m\u001b[0mget_loc\u001b[0m\u001b[0;34m(\u001b[0m\u001b[0mkey\u001b[0m\u001b[0;34m)\u001b[0m\u001b[0;34m\u001b[0m\u001b[0m\n\u001b[1;32m   2443\u001b[0m             \u001b[0;32mexcept\u001b[0m \u001b[0mKeyError\u001b[0m\u001b[0;34m:\u001b[0m\u001b[0;34m\u001b[0m\u001b[0m\n\u001b[0;32m-> 2444\u001b[0;31m                 \u001b[0;32mreturn\u001b[0m \u001b[0mself\u001b[0m\u001b[0;34m.\u001b[0m\u001b[0m_engine\u001b[0m\u001b[0;34m.\u001b[0m\u001b[0mget_loc\u001b[0m\u001b[0;34m(\u001b[0m\u001b[0mself\u001b[0m\u001b[0;34m.\u001b[0m\u001b[0m_maybe_cast_indexer\u001b[0m\u001b[0;34m(\u001b[0m\u001b[0mkey\u001b[0m\u001b[0;34m)\u001b[0m\u001b[0;34m)\u001b[0m\u001b[0;34m\u001b[0m\u001b[0m\n\u001b[0m\u001b[1;32m   2445\u001b[0m \u001b[0;34m\u001b[0m\u001b[0m\n\u001b[1;32m   2446\u001b[0m         \u001b[0mindexer\u001b[0m \u001b[0;34m=\u001b[0m \u001b[0mself\u001b[0m\u001b[0;34m.\u001b[0m\u001b[0mget_indexer\u001b[0m\u001b[0;34m(\u001b[0m\u001b[0;34m[\u001b[0m\u001b[0mkey\u001b[0m\u001b[0;34m]\u001b[0m\u001b[0;34m,\u001b[0m \u001b[0mmethod\u001b[0m\u001b[0;34m=\u001b[0m\u001b[0mmethod\u001b[0m\u001b[0;34m,\u001b[0m \u001b[0mtolerance\u001b[0m\u001b[0;34m=\u001b[0m\u001b[0mtolerance\u001b[0m\u001b[0;34m)\u001b[0m\u001b[0;34m\u001b[0m\u001b[0m\n",
      "\u001b[0;32mpandas/_libs/index.pyx\u001b[0m in \u001b[0;36mpandas._libs.index.IndexEngine.get_loc\u001b[0;34m()\u001b[0m\n",
      "\u001b[0;32mpandas/_libs/index.pyx\u001b[0m in \u001b[0;36mpandas._libs.index.IndexEngine.get_loc\u001b[0;34m()\u001b[0m\n",
      "\u001b[0;32mpandas/_libs/hashtable_class_helper.pxi\u001b[0m in \u001b[0;36mpandas._libs.hashtable.PyObjectHashTable.get_item\u001b[0;34m()\u001b[0m\n",
      "\u001b[0;32mpandas/_libs/hashtable_class_helper.pxi\u001b[0m in \u001b[0;36mpandas._libs.hashtable.PyObjectHashTable.get_item\u001b[0;34m()\u001b[0m\n",
      "\u001b[0;31mKeyError\u001b[0m: 'family'"
     ]
    }
   ],
   "source": [
    "del items_cat['family']"
   ]
  },
  {
   "cell_type": "code",
   "execution_count": null,
   "metadata": {
    "collapsed": true
   },
   "outputs": [],
   "source": [
    "self.right = self.right.drop(right_drop, axis=1)"
   ]
  },
  {
   "cell_type": "code",
   "execution_count": 18,
   "metadata": {},
   "outputs": [
    {
     "data": {
      "text/plain": [
       "RangeIndex(start=0, stop=4100, step=1)"
      ]
     },
     "execution_count": 18,
     "metadata": {},
     "output_type": "execute_result"
    }
   ],
   "source": [
    "items_cat.index"
   ]
  },
  {
   "cell_type": "code",
   "execution_count": 13,
   "metadata": {
    "collapsed": true
   },
   "outputs": [],
   "source": [
    "train_out = pd.read_pickle('../data/storeitem_train_1s.p')\n"
   ]
  },
  {
   "cell_type": "code",
   "execution_count": 14,
   "metadata": {},
   "outputs": [
    {
     "data": {
      "text/plain": [
       "(74844, 128)"
      ]
     },
     "execution_count": 14,
     "metadata": {},
     "output_type": "execute_result"
    }
   ],
   "source": [
    "train_out.shape\n",
    "\n"
   ]
  },
  {
   "cell_type": "code",
   "execution_count": 16,
   "metadata": {},
   "outputs": [
    {
     "name": "stderr",
     "output_type": "stream",
     "text": [
      "/home/zyp/anaconda3/lib/python3.6/site-packages/pandas/core/reshape/merge.py:551: UserWarning: merging between different levels can give an unintended result (1 levels on the left, 2 on the right)\n",
      "  warnings.warn(msg, UserWarning)\n",
      "/home/zyp/anaconda3/lib/python3.6/site-packages/pandas/core/reshape/merge.py:862: PerformanceWarning: dropping on a non-lexsorted multi-index without a level parameter may impact performance.\n",
      "  self.right = self.right.drop(right_drop, axis=1)\n"
     ]
    }
   ],
   "source": [
    "train_out = pd.merge(train_out, items_cat, on = 'item_nbr', how = 'inner')"
   ]
  },
  {
   "cell_type": "code",
   "execution_count": 89,
   "metadata": {
    "collapsed": true
   },
   "outputs": [],
   "source": [
    "\n",
    "X_train_out = train_out[x_columns]\n",
    "X_val_out = val_out[x_columns]\n",
    "\n",
    "\n",
    "X_train_allF = X_train_out[features_all]\n",
    "X_val_allF = X_val_out[features_all]\n",
    "X_test_allF = X_test_out[features_all]\n"
   ]
  },
  {
   "cell_type": "code",
   "execution_count": 90,
   "metadata": {},
   "outputs": [
    {
     "data": {
      "text/html": [
       "<div>\n",
       "<style>\n",
       "    .dataframe thead tr:only-child th {\n",
       "        text-align: right;\n",
       "    }\n",
       "\n",
       "    .dataframe thead th {\n",
       "        text-align: left;\n",
       "    }\n",
       "\n",
       "    .dataframe tbody tr th {\n",
       "        vertical-align: top;\n",
       "    }\n",
       "</style>\n",
       "<table border=\"1\" class=\"dataframe\">\n",
       "  <thead>\n",
       "    <tr style=\"text-align: right;\">\n",
       "      <th></th>\n",
       "      <th>date</th>\n",
       "      <th>day_1</th>\n",
       "      <th>mean_14</th>\n",
       "      <th>mean_140</th>\n",
       "      <th>mean_182</th>\n",
       "      <th>mean_21</th>\n",
       "      <th>mean_3</th>\n",
       "      <th>mean_30</th>\n",
       "      <th>mean_364</th>\n",
       "      <th>mean_42</th>\n",
       "      <th>...</th>\n",
       "      <th>promo_6</th>\n",
       "      <th>promo_7</th>\n",
       "      <th>promo_8</th>\n",
       "      <th>promo_9</th>\n",
       "      <th>promo_10</th>\n",
       "      <th>promo_11</th>\n",
       "      <th>promo_12</th>\n",
       "      <th>promo_13</th>\n",
       "      <th>promo_14</th>\n",
       "      <th>promo_15</th>\n",
       "    </tr>\n",
       "  </thead>\n",
       "  <tbody>\n",
       "    <tr>\n",
       "      <th>0</th>\n",
       "      <td>2014-08-06</td>\n",
       "      <td>0.0</td>\n",
       "      <td>0.346574</td>\n",
       "      <td>0.047456</td>\n",
       "      <td>0.036504</td>\n",
       "      <td>0.316371</td>\n",
       "      <td>0.231049</td>\n",
       "      <td>0.22146</td>\n",
       "      <td>0.179006</td>\n",
       "      <td>0.158185</td>\n",
       "      <td>...</td>\n",
       "      <td>0</td>\n",
       "      <td>0</td>\n",
       "      <td>0</td>\n",
       "      <td>0</td>\n",
       "      <td>0</td>\n",
       "      <td>0</td>\n",
       "      <td>0</td>\n",
       "      <td>0</td>\n",
       "      <td>0</td>\n",
       "      <td>0</td>\n",
       "    </tr>\n",
       "  </tbody>\n",
       "</table>\n",
       "<p>1 rows × 109 columns</p>\n",
       "</div>"
      ],
      "text/plain": [
       "         date  day_1   mean_14  mean_140  mean_182   mean_21    mean_3  \\\n",
       "0  2014-08-06    0.0  0.346574  0.047456  0.036504  0.316371  0.231049   \n",
       "\n",
       "   mean_30  mean_364   mean_42    ...     promo_6  promo_7  promo_8  promo_9  \\\n",
       "0  0.22146  0.179006  0.158185    ...           0        0        0        0   \n",
       "\n",
       "   promo_10  promo_11  promo_12  promo_13  promo_14  promo_15  \n",
       "0         0         0         0         0         0         0  \n",
       "\n",
       "[1 rows x 109 columns]"
      ]
     },
     "execution_count": 90,
     "metadata": {},
     "output_type": "execute_result"
    }
   ],
   "source": [
    "X_train_allF[features_t].head(1)"
   ]
  },
  {
   "cell_type": "code",
   "execution_count": 91,
   "metadata": {},
   "outputs": [
    {
     "data": {
      "text/html": [
       "<div>\n",
       "<style>\n",
       "    .dataframe thead tr:only-child th {\n",
       "        text-align: right;\n",
       "    }\n",
       "\n",
       "    .dataframe thead th {\n",
       "        text-align: left;\n",
       "    }\n",
       "\n",
       "    .dataframe tbody tr th {\n",
       "        vertical-align: top;\n",
       "    }\n",
       "</style>\n",
       "<table border=\"1\" class=\"dataframe\">\n",
       "  <thead>\n",
       "    <tr style=\"text-align: right;\">\n",
       "      <th></th>\n",
       "      <th>date</th>\n",
       "      <th>TEMP</th>\n",
       "    </tr>\n",
       "  </thead>\n",
       "  <tbody>\n",
       "    <tr>\n",
       "      <th>0</th>\n",
       "      <td>2014-01-02</td>\n",
       "      <td>61.099998</td>\n",
       "    </tr>\n",
       "  </tbody>\n",
       "</table>\n",
       "</div>"
      ],
      "text/plain": [
       "        date       TEMP\n",
       "0 2014-01-02  61.099998"
      ]
     },
     "execution_count": 91,
     "metadata": {},
     "output_type": "execute_result"
    }
   ],
   "source": [
    "weather[['date','TEMP']].head(1)"
   ]
  },
  {
   "cell_type": "code",
   "execution_count": 86,
   "metadata": {
    "collapsed": true
   },
   "outputs": [],
   "source": [
    " features_t = features_all.copy()"
   ]
  },
  {
   "cell_type": "code",
   "execution_count": 93,
   "metadata": {
    "collapsed": true
   },
   "outputs": [],
   "source": [
    "weather_temp = weather[['date','TEMP']]"
   ]
  },
  {
   "cell_type": "code",
   "execution_count": null,
   "metadata": {
    "collapsed": true
   },
   "outputs": [],
   "source": []
  },
  {
   "cell_type": "code",
   "execution_count": 100,
   "metadata": {},
   "outputs": [
    {
     "name": "stdout",
     "output_type": "stream",
     "text": [
      "<class 'pandas.core.frame.DataFrame'>\n",
      "RangeIndex: 1089 entries, 0 to 1088\n",
      "Data columns (total 2 columns):\n",
      "date    1089 non-null datetime64[ns]\n",
      "TEMP    1089 non-null float32\n",
      "dtypes: datetime64[ns](1), float32(1)\n",
      "memory usage: 12.8 KB\n"
     ]
    }
   ],
   "source": [
    "weather_temp.info()"
   ]
  },
  {
   "cell_type": "code",
   "execution_count": 103,
   "metadata": {},
   "outputs": [
    {
     "name": "stdout",
     "output_type": "stream",
     "text": [
      "<class 'pandas.core.frame.DataFrame'>\n",
      "RangeIndex: 74844 entries, 0 to 74843\n",
      "Data columns (total 1 columns):\n",
      "date    74844 non-null object\n",
      "dtypes: object(1)\n",
      "memory usage: 584.8+ KB\n"
     ]
    }
   ],
   "source": [
    "X_train_allF[['date']].info()"
   ]
  },
  {
   "cell_type": "code",
   "execution_count": 104,
   "metadata": {
    "collapsed": true
   },
   "outputs": [],
   "source": [
    "X_train_allF[\"date\"] = pd.to_datetime(X_train_allF['date'],format='%Y-%m-%d')"
   ]
  },
  {
   "cell_type": "code",
   "execution_count": 105,
   "metadata": {
    "collapsed": true
   },
   "outputs": [],
   "source": [
    "X_train = pd.merge(X_train_allF[features_t],weather_temp, on=['date'], how='inner')\n",
    "\n"
   ]
  },
  {
   "cell_type": "code",
   "execution_count": 107,
   "metadata": {},
   "outputs": [
    {
     "data": {
      "text/html": [
       "<div>\n",
       "<style>\n",
       "    .dataframe thead tr:only-child th {\n",
       "        text-align: right;\n",
       "    }\n",
       "\n",
       "    .dataframe thead th {\n",
       "        text-align: left;\n",
       "    }\n",
       "\n",
       "    .dataframe tbody tr th {\n",
       "        vertical-align: top;\n",
       "    }\n",
       "</style>\n",
       "<table border=\"1\" class=\"dataframe\">\n",
       "  <thead>\n",
       "    <tr style=\"text-align: right;\">\n",
       "      <th></th>\n",
       "      <th>date</th>\n",
       "      <th>day_1</th>\n",
       "      <th>mean_14</th>\n",
       "      <th>mean_140</th>\n",
       "      <th>mean_182</th>\n",
       "      <th>mean_21</th>\n",
       "      <th>mean_3</th>\n",
       "      <th>mean_30</th>\n",
       "      <th>mean_364</th>\n",
       "      <th>mean_42</th>\n",
       "      <th>...</th>\n",
       "      <th>promo_7</th>\n",
       "      <th>promo_8</th>\n",
       "      <th>promo_9</th>\n",
       "      <th>promo_10</th>\n",
       "      <th>promo_11</th>\n",
       "      <th>promo_12</th>\n",
       "      <th>promo_13</th>\n",
       "      <th>promo_14</th>\n",
       "      <th>promo_15</th>\n",
       "      <th>TEMP</th>\n",
       "    </tr>\n",
       "  </thead>\n",
       "  <tbody>\n",
       "    <tr>\n",
       "      <th>0</th>\n",
       "      <td>2014-08-20</td>\n",
       "      <td>0.0</td>\n",
       "      <td>0.0</td>\n",
       "      <td>0.047456</td>\n",
       "      <td>0.036504</td>\n",
       "      <td>0.132028</td>\n",
       "      <td>0.0</td>\n",
       "      <td>0.184839</td>\n",
       "      <td>0.158849</td>\n",
       "      <td>0.158185</td>\n",
       "      <td>...</td>\n",
       "      <td>0</td>\n",
       "      <td>0</td>\n",
       "      <td>0</td>\n",
       "      <td>0</td>\n",
       "      <td>0</td>\n",
       "      <td>0</td>\n",
       "      <td>0</td>\n",
       "      <td>0</td>\n",
       "      <td>0</td>\n",
       "      <td>56.400002</td>\n",
       "    </tr>\n",
       "  </tbody>\n",
       "</table>\n",
       "<p>1 rows × 110 columns</p>\n",
       "</div>"
      ],
      "text/plain": [
       "        date  day_1  mean_14  mean_140  mean_182   mean_21  mean_3   mean_30  \\\n",
       "0 2014-08-20    0.0      0.0  0.047456  0.036504  0.132028     0.0  0.184839   \n",
       "\n",
       "   mean_364   mean_42    ...      promo_7  promo_8  promo_9  promo_10  \\\n",
       "0  0.158849  0.158185    ...            0        0        0         0   \n",
       "\n",
       "   promo_11  promo_12  promo_13  promo_14  promo_15       TEMP  \n",
       "0         0         0         0         0         0  56.400002  \n",
       "\n",
       "[1 rows x 110 columns]"
      ]
     },
     "execution_count": 107,
     "metadata": {},
     "output_type": "execute_result"
    }
   ],
   "source": [
    "X_train.head(1)"
   ]
  },
  {
   "cell_type": "code",
   "execution_count": 71,
   "metadata": {
    "collapsed": true
   },
   "outputs": [],
   "source": [
    "\n",
    "def get_timespan(df, dt, minus, periods, freq='D'):\n",
    "    return df[pd.date_range\n",
    "              (dt - timedelta(days=minus), periods=periods, freq=freq)]\n",
    "\n",
    "\n",
    "def prepare_dataset(t2017, is_train=True):\n",
    "\n",
    "    for i in range(16):\n",
    "        X[\"temp_{}\".format(i)] = weather_temp[\n",
    "            t2017 + timedelta(days=i)].values.astype(np.uint8)\n",
    "\n",
    "    return X\n",
    "\n"
   ]
  },
  {
   "cell_type": "code",
   "execution_count": 72,
   "metadata": {},
   "outputs": [
    {
     "ename": "NameError",
     "evalue": "name 'df_train_store' is not defined",
     "output_type": "error",
     "traceback": [
      "\u001b[0;31m---------------------------------------------------------------------------\u001b[0m",
      "\u001b[0;31mNameError\u001b[0m                                 Traceback (most recent call last)",
      "\u001b[0;32m<ipython-input-72-aba120040743>\u001b[0m in \u001b[0;36m<module>\u001b[0;34m()\u001b[0m\n\u001b[0;32m----> 1\u001b[0;31m df_2017 = df_train_store.set_index(\n\u001b[0m\u001b[1;32m      2\u001b[0m     \u001b[0;34m[\u001b[0m\u001b[0;34m\"store_nbr\"\u001b[0m\u001b[0;34m,\u001b[0m \u001b[0;34m\"date\"\u001b[0m\u001b[0;34m]\u001b[0m\u001b[0;34m)\u001b[0m\u001b[0;34m[\u001b[0m\u001b[0;34m[\u001b[0m\u001b[0;34m\"store_avg_sales\"\u001b[0m\u001b[0;34m]\u001b[0m\u001b[0;34m]\u001b[0m\u001b[0;34m.\u001b[0m\u001b[0munstack\u001b[0m\u001b[0;34m(\u001b[0m\u001b[0;34m\u001b[0m\u001b[0m\n\u001b[1;32m      3\u001b[0m         level=-1).fillna(0)\n\u001b[1;32m      4\u001b[0m \u001b[0mdf_2017\u001b[0m\u001b[0;34m.\u001b[0m\u001b[0mcolumns\u001b[0m \u001b[0;34m=\u001b[0m \u001b[0mdf_2017\u001b[0m\u001b[0;34m.\u001b[0m\u001b[0mcolumns\u001b[0m\u001b[0;34m.\u001b[0m\u001b[0mget_level_values\u001b[0m\u001b[0;34m(\u001b[0m\u001b[0;36m1\u001b[0m\u001b[0;34m)\u001b[0m\u001b[0;34m\u001b[0m\u001b[0m\n",
      "\u001b[0;31mNameError\u001b[0m: name 'df_train_store' is not defined"
     ]
    }
   ],
   "source": [
    "df_2017 = df_train_store.set_index(\n",
    "    [\"store_nbr\", \"date\"])[[\"store_avg_sales\"]].unstack(\n",
    "        level=-1).fillna(0)\n",
    "df_2017.columns = df_2017.columns.get_level_values(1)\n"
   ]
  },
  {
   "cell_type": "code",
   "execution_count": 73,
   "metadata": {},
   "outputs": [
    {
     "data": {
      "text/plain": [
       "(1, 1089)"
      ]
     },
     "execution_count": 73,
     "metadata": {},
     "output_type": "execute_result"
    }
   ],
   "source": [
    "weather_temp = weather.set_index(\n",
    "    [\"ID\",\"date\"])[[\"TEMP\"]].unstack(level=-1).fillna(0)\n",
    "weather_temp.shape"
   ]
  },
  {
   "cell_type": "code",
   "execution_count": 74,
   "metadata": {},
   "outputs": [
    {
     "data": {
      "text/html": [
       "<div>\n",
       "<style>\n",
       "    .dataframe thead tr:only-child th {\n",
       "        text-align: right;\n",
       "    }\n",
       "\n",
       "    .dataframe thead th {\n",
       "        text-align: left;\n",
       "    }\n",
       "\n",
       "    .dataframe tbody tr th {\n",
       "        vertical-align: top;\n",
       "    }\n",
       "</style>\n",
       "<table border=\"1\" class=\"dataframe\">\n",
       "  <thead>\n",
       "    <tr>\n",
       "      <th></th>\n",
       "      <th colspan=\"21\" halign=\"left\">TEMP</th>\n",
       "    </tr>\n",
       "    <tr>\n",
       "      <th>date</th>\n",
       "      <th>2014-01-02</th>\n",
       "      <th>2014-01-05</th>\n",
       "      <th>2014-01-09</th>\n",
       "      <th>2014-01-10</th>\n",
       "      <th>2014-01-11</th>\n",
       "      <th>2014-01-17</th>\n",
       "      <th>2014-01-19</th>\n",
       "      <th>2014-01-20</th>\n",
       "      <th>2014-01-22</th>\n",
       "      <th>2014-01-27</th>\n",
       "      <th>...</th>\n",
       "      <th>2017-12-21</th>\n",
       "      <th>2017-12-22</th>\n",
       "      <th>2017-12-23</th>\n",
       "      <th>2017-12-24</th>\n",
       "      <th>2017-12-25</th>\n",
       "      <th>2017-12-26</th>\n",
       "      <th>2017-12-27</th>\n",
       "      <th>2017-12-28</th>\n",
       "      <th>2017-12-29</th>\n",
       "      <th>2017-12-30</th>\n",
       "    </tr>\n",
       "    <tr>\n",
       "      <th>ID</th>\n",
       "      <th></th>\n",
       "      <th></th>\n",
       "      <th></th>\n",
       "      <th></th>\n",
       "      <th></th>\n",
       "      <th></th>\n",
       "      <th></th>\n",
       "      <th></th>\n",
       "      <th></th>\n",
       "      <th></th>\n",
       "      <th></th>\n",
       "      <th></th>\n",
       "      <th></th>\n",
       "      <th></th>\n",
       "      <th></th>\n",
       "      <th></th>\n",
       "      <th></th>\n",
       "      <th></th>\n",
       "      <th></th>\n",
       "      <th></th>\n",
       "      <th></th>\n",
       "    </tr>\n",
       "  </thead>\n",
       "  <tbody>\n",
       "    <tr>\n",
       "      <th>1</th>\n",
       "      <td>61.099998</td>\n",
       "      <td>58.099998</td>\n",
       "      <td>61.5</td>\n",
       "      <td>60.400002</td>\n",
       "      <td>62.700001</td>\n",
       "      <td>60.599998</td>\n",
       "      <td>60.099998</td>\n",
       "      <td>60.0</td>\n",
       "      <td>65.0</td>\n",
       "      <td>63.799999</td>\n",
       "      <td>...</td>\n",
       "      <td>63.0</td>\n",
       "      <td>63.400002</td>\n",
       "      <td>66.400002</td>\n",
       "      <td>67.199997</td>\n",
       "      <td>65.900002</td>\n",
       "      <td>61.700001</td>\n",
       "      <td>59.700001</td>\n",
       "      <td>59.5</td>\n",
       "      <td>60.400002</td>\n",
       "      <td>64.5</td>\n",
       "    </tr>\n",
       "  </tbody>\n",
       "</table>\n",
       "<p>1 rows × 1089 columns</p>\n",
       "</div>"
      ],
      "text/plain": [
       "           TEMP                                                         \\\n",
       "date 2014-01-02 2014-01-05 2014-01-09 2014-01-10 2014-01-11 2014-01-17   \n",
       "ID                                                                       \n",
       "1     61.099998  58.099998       61.5  60.400002  62.700001  60.599998   \n",
       "\n",
       "                                                    ...                 \\\n",
       "date 2014-01-19 2014-01-20 2014-01-22 2014-01-27    ...     2017-12-21   \n",
       "ID                                                  ...                  \n",
       "1     60.099998       60.0       65.0  63.799999    ...           63.0   \n",
       "\n",
       "                                                                        \\\n",
       "date 2017-12-22 2017-12-23 2017-12-24 2017-12-25 2017-12-26 2017-12-27   \n",
       "ID                                                                       \n",
       "1     63.400002  66.400002  67.199997  65.900002  61.700001  59.700001   \n",
       "\n",
       "                                       \n",
       "date 2017-12-28 2017-12-29 2017-12-30  \n",
       "ID                                     \n",
       "1          59.5  60.400002       64.5  \n",
       "\n",
       "[1 rows x 1089 columns]"
      ]
     },
     "execution_count": 74,
     "metadata": {},
     "output_type": "execute_result"
    }
   ],
   "source": [
    "weather_temp.head(5)"
   ]
  },
  {
   "cell_type": "code",
   "execution_count": 63,
   "metadata": {},
   "outputs": [
    {
     "name": "stdout",
     "output_type": "stream",
     "text": [
      "<class 'pandas.core.frame.DataFrame'>\n",
      "DatetimeIndex: 1089 entries, 2014-01-02 to 2017-12-30\n",
      "Data columns (total 1 columns):\n",
      "TEMP    1089 non-null float32\n",
      "dtypes: float32(1)\n",
      "memory usage: 12.8 KB\n"
     ]
    }
   ],
   "source": [
    "weather.set_index([\"date\"])[[\"TEMP\"]].info()"
   ]
  },
  {
   "cell_type": "code",
   "execution_count": 59,
   "metadata": {},
   "outputs": [
    {
     "data": {
      "text/plain": [
       "YEARMODA  0                  20140102\n",
       "          1                  20140105\n",
       "          2                  20140109\n",
       "          3                  20140110\n",
       "          4                  20140111\n",
       "          5                  20140117\n",
       "          6                  20140119\n",
       "          7                  20140120\n",
       "          8                  20140122\n",
       "          9                  20140127\n",
       "          10                 20140201\n",
       "          11                 20140206\n",
       "          12                 20140208\n",
       "          13                 20140226\n",
       "          14                 20140228\n",
       "          15                 20140302\n",
       "          16                 20140303\n",
       "          17                 20140601\n",
       "          18                 20140603\n",
       "          19                 20140606\n",
       "          20                 20140611\n",
       "          21                 20140628\n",
       "          22                 20140701\n",
       "          23                 20140711\n",
       "          24                 20140721\n",
       "          25                 20140726\n",
       "          26                 20140805\n",
       "          27                 20140807\n",
       "          28                 20140812\n",
       "          29                 20140815\n",
       "                         ...         \n",
       "date      1059    2017-12-01 00:00:00\n",
       "          1060    2017-12-02 00:00:00\n",
       "          1061    2017-12-03 00:00:00\n",
       "          1062    2017-12-04 00:00:00\n",
       "          1063    2017-12-05 00:00:00\n",
       "          1064    2017-12-06 00:00:00\n",
       "          1065    2017-12-07 00:00:00\n",
       "          1066    2017-12-08 00:00:00\n",
       "          1067    2017-12-09 00:00:00\n",
       "          1068    2017-12-10 00:00:00\n",
       "          1069    2017-12-11 00:00:00\n",
       "          1070    2017-12-12 00:00:00\n",
       "          1071    2017-12-13 00:00:00\n",
       "          1072    2017-12-14 00:00:00\n",
       "          1073    2017-12-15 00:00:00\n",
       "          1074    2017-12-16 00:00:00\n",
       "          1075    2017-12-17 00:00:00\n",
       "          1076    2017-12-18 00:00:00\n",
       "          1077    2017-12-19 00:00:00\n",
       "          1078    2017-12-20 00:00:00\n",
       "          1079    2017-12-21 00:00:00\n",
       "          1080    2017-12-22 00:00:00\n",
       "          1081    2017-12-23 00:00:00\n",
       "          1082    2017-12-24 00:00:00\n",
       "          1083    2017-12-25 00:00:00\n",
       "          1084    2017-12-26 00:00:00\n",
       "          1085    2017-12-27 00:00:00\n",
       "          1086    2017-12-28 00:00:00\n",
       "          1087    2017-12-29 00:00:00\n",
       "          1088    2017-12-30 00:00:00\n",
       "Length: 5445, dtype: object"
      ]
     },
     "execution_count": 59,
     "metadata": {},
     "output_type": "execute_result"
    }
   ],
   "source": [
    "weather.unstack()"
   ]
  },
  {
   "cell_type": "code",
   "execution_count": 48,
   "metadata": {},
   "outputs": [
    {
     "data": {
      "text/plain": [
       "      date      \n",
       "TEMP  2014-01-02    61.099998\n",
       "      2014-01-05    58.099998\n",
       "      2014-01-09    61.500000\n",
       "      2014-01-10    60.400002\n",
       "      2014-01-11    62.700001\n",
       "dtype: float32"
      ]
     },
     "execution_count": 48,
     "metadata": {},
     "output_type": "execute_result"
    }
   ],
   "source": [
    "weather_temp.head()"
   ]
  },
  {
   "cell_type": "code",
   "execution_count": 18,
   "metadata": {
    "collapsed": true
   },
   "outputs": [],
   "source": [
    "item_train_out = pd.merge(item_train_out, items[[\"item_nbr\", \"perishable\"]], on = ['item_nbr'])"
   ]
  },
  {
   "cell_type": "code",
   "execution_count": 19,
   "metadata": {},
   "outputs": [
    {
     "data": {
      "text/plain": [
       "(74844, 62)"
      ]
     },
     "execution_count": 19,
     "metadata": {},
     "output_type": "execute_result"
    }
   ],
   "source": [
    "item_train_out.shape"
   ]
  }
 ],
 "metadata": {
  "kernelspec": {
   "display_name": "Python 3",
   "language": "python",
   "name": "python3"
  },
  "language_info": {
   "codemirror_mode": {
    "name": "ipython",
    "version": 3
   },
   "file_extension": ".py",
   "mimetype": "text/x-python",
   "name": "python",
   "nbconvert_exporter": "python",
   "pygments_lexer": "ipython3",
   "version": "3.6.3"
  }
 },
 "nbformat": 4,
 "nbformat_minor": 2
}
