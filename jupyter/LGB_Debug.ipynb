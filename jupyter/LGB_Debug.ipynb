{
 "cells": [
  {
   "cell_type": "code",
   "execution_count": 1,
   "metadata": {
    "scrolled": false
   },
   "outputs": [
    {
     "name": "stderr",
     "output_type": "stream",
     "text": [
      "2018-01-02 11:03:05,263 __main__ 32 [INFO][<module>] start \n",
      "/home/zyp/anaconda3/lib/python3.6/site-packages/IPython/core/interactiveshell.py:2698: DtypeWarning: Columns (5) have mixed types. Specify dtype option on import or set low_memory=False.\n",
      "  interactivity=interactivity, compiler=compiler, result=result)\n"
     ]
    }
   ],
   "source": [
    "from datetime import date, timedelta\n",
    "\n",
    "import pandas as pd\n",
    "import numpy as np\n",
    "from sklearn.metrics import mean_squared_error\n",
    "import lightgbm as lgb\n",
    "import sys\n",
    "\n",
    "import math\n",
    "import sklearn.metrics as skl_metrics\n",
    "\n",
    "from datetime import timedelta\n",
    "from logging import StreamHandler, DEBUG, Formatter, FileHandler, getLogger\n",
    "\n",
    "logger = getLogger(__name__)\n",
    "pd.options.mode.chained_assignment = None  # default='warn'\n",
    "\n",
    "DIR = '../logs/'\n",
    "\n",
    "log_fmt = Formatter('%(asctime)s %(name)s %(lineno)d [%(levelname)s][%(funcName)s] %(message)s ')\n",
    "handler = StreamHandler()\n",
    "handler.setLevel('INFO')\n",
    "handler.setFormatter(log_fmt)\n",
    "logger.addHandler(handler)\n",
    "\n",
    "handler = FileHandler(DIR + 'train.py.log', 'a')\n",
    "handler.setLevel(DEBUG)\n",
    "handler.setFormatter(log_fmt)\n",
    "logger.setLevel(DEBUG)\n",
    "logger.addHandler(handler)\n",
    "\n",
    "logger.info('start')\n",
    "\n",
    "#------------------------------------------------------------------------------------#\n",
    "\n",
    "df_train = pd.read_csv(\n",
    "    '../input/train_1s.csv', usecols=[1, 2, 3, 4, 5],\n",
    "    dtype={'onpromotion': bool},\n",
    "    converters={'unit_sales': lambda u: np.log1p(\n",
    "    float(u)) if float(u) > 0 else 0},\n",
    "    parse_dates=[\"date\"]\n",
    ")\n",
    "\n",
    "df_test = pd.read_csv(\n",
    "    \"../input/test_1s.csv\", usecols=[0, 1, 2, 3, 4],\n",
    "    dtype={'onpromotion': bool},\n",
    "    parse_dates=[\"date\"]  # , date_parser=parser\n",
    ").set_index(\n",
    "    ['store_nbr', 'item_nbr', 'date']\n",
    ")\n",
    "\n",
    "\n",
    "\n",
    "items = pd.read_csv(\n",
    "    \"../input/items.csv\",\n",
    ").set_index(\"item_nbr\")\n",
    "\n",
    "\n"
   ]
  },
  {
   "cell_type": "code",
   "execution_count": 2,
   "metadata": {},
   "outputs": [
    {
     "data": {
      "text/plain": [
       "(2562153, 5)"
      ]
     },
     "execution_count": 2,
     "metadata": {},
     "output_type": "execute_result"
    }
   ],
   "source": [
    "df_train.shape"
   ]
  },
  {
   "cell_type": "code",
   "execution_count": 3,
   "metadata": {
    "collapsed": true
   },
   "outputs": [],
   "source": [
    "df_2017 = df_train.loc[df_train.date>=pd.datetime(2017,5,1)]\n",
    "#del df_train\n",
    "\n",
    "promo_2017_train = df_2017.set_index(\n",
    "    [\"store_nbr\", \"item_nbr\", \"date\"])[[\"onpromotion\"]].unstack(\n",
    "        level=-1).fillna(False)\n",
    "promo_2017_train.columns = promo_2017_train.columns.get_level_values(1)\n",
    "promo_2017_test = df_test[[\"onpromotion\"]].unstack(level=-1).fillna(False)\n",
    "promo_2017_test.columns = promo_2017_test.columns.get_level_values(1)\n",
    "promo_2017_test = promo_2017_test.reindex(promo_2017_train.index).fillna(False)\n",
    "promo_2017 = pd.concat([promo_2017_train, promo_2017_test], axis=1)\n",
    "#del promo_2017_test, promo_2017_train\n",
    "\n",
    "df_2017 = df_2017.set_index(\n",
    "    [\"store_nbr\", \"item_nbr\", \"date\"])[[\"unit_sales\"]].unstack(\n",
    "        level=-1).fillna(0)\n",
    "df_2017.columns = df_2017.columns.get_level_values(1)\n",
    "\n",
    "items = items.reindex(df_2017.index.get_level_values(1))"
   ]
  },
  {
   "cell_type": "code",
   "execution_count": 118,
   "metadata": {
    "collapsed": true
   },
   "outputs": [],
   "source": [
    "df_2017_nbr = pd.DataFrame(df_2017.copy())\n",
    "df_2017_nbr.reset_index(inplace = True)"
   ]
  },
  {
   "cell_type": "code",
   "execution_count": 6,
   "metadata": {},
   "outputs": [
    {
     "data": {
      "text/html": [
       "<div>\n",
       "<style>\n",
       "    .dataframe thead tr:only-child th {\n",
       "        text-align: right;\n",
       "    }\n",
       "\n",
       "    .dataframe thead th {\n",
       "        text-align: left;\n",
       "    }\n",
       "\n",
       "    .dataframe tbody tr th {\n",
       "        vertical-align: top;\n",
       "    }\n",
       "</style>\n",
       "<table border=\"1\" class=\"dataframe\">\n",
       "  <thead>\n",
       "    <tr style=\"text-align: right;\">\n",
       "      <th></th>\n",
       "      <th>date</th>\n",
       "      <th>2017-05-01 00:00:00</th>\n",
       "      <th>2017-05-02 00:00:00</th>\n",
       "      <th>2017-05-03 00:00:00</th>\n",
       "      <th>2017-05-04 00:00:00</th>\n",
       "      <th>2017-05-05 00:00:00</th>\n",
       "      <th>2017-05-06 00:00:00</th>\n",
       "      <th>2017-05-07 00:00:00</th>\n",
       "      <th>2017-05-08 00:00:00</th>\n",
       "      <th>2017-05-09 00:00:00</th>\n",
       "      <th>2017-05-10 00:00:00</th>\n",
       "      <th>...</th>\n",
       "      <th>2017-08-06 00:00:00</th>\n",
       "      <th>2017-08-07 00:00:00</th>\n",
       "      <th>2017-08-08 00:00:00</th>\n",
       "      <th>2017-08-09 00:00:00</th>\n",
       "      <th>2017-08-10 00:00:00</th>\n",
       "      <th>2017-08-11 00:00:00</th>\n",
       "      <th>2017-08-12 00:00:00</th>\n",
       "      <th>2017-08-13 00:00:00</th>\n",
       "      <th>2017-08-14 00:00:00</th>\n",
       "      <th>2017-08-15 00:00:00</th>\n",
       "    </tr>\n",
       "    <tr>\n",
       "      <th>store_nbr</th>\n",
       "      <th>item_nbr</th>\n",
       "      <th></th>\n",
       "      <th></th>\n",
       "      <th></th>\n",
       "      <th></th>\n",
       "      <th></th>\n",
       "      <th></th>\n",
       "      <th></th>\n",
       "      <th></th>\n",
       "      <th></th>\n",
       "      <th></th>\n",
       "      <th></th>\n",
       "      <th></th>\n",
       "      <th></th>\n",
       "      <th></th>\n",
       "      <th></th>\n",
       "      <th></th>\n",
       "      <th></th>\n",
       "      <th></th>\n",
       "      <th></th>\n",
       "      <th></th>\n",
       "      <th></th>\n",
       "    </tr>\n",
       "  </thead>\n",
       "  <tbody>\n",
       "    <tr>\n",
       "      <th rowspan=\"2\" valign=\"top\">1</th>\n",
       "      <th>96995</th>\n",
       "      <td>0.0</td>\n",
       "      <td>0.0</td>\n",
       "      <td>0.0</td>\n",
       "      <td>0.0</td>\n",
       "      <td>0.0</td>\n",
       "      <td>0.0</td>\n",
       "      <td>0.0</td>\n",
       "      <td>0.693147</td>\n",
       "      <td>0.693147</td>\n",
       "      <td>0.000000</td>\n",
       "      <td>...</td>\n",
       "      <td>1.098612</td>\n",
       "      <td>1.098612</td>\n",
       "      <td>0.0</td>\n",
       "      <td>0.000000</td>\n",
       "      <td>0.693147</td>\n",
       "      <td>0.0</td>\n",
       "      <td>0.0</td>\n",
       "      <td>0.0</td>\n",
       "      <td>0.0</td>\n",
       "      <td>0.0</td>\n",
       "    </tr>\n",
       "    <tr>\n",
       "      <th>99197</th>\n",
       "      <td>0.0</td>\n",
       "      <td>0.0</td>\n",
       "      <td>0.0</td>\n",
       "      <td>0.0</td>\n",
       "      <td>0.0</td>\n",
       "      <td>0.0</td>\n",
       "      <td>0.0</td>\n",
       "      <td>0.000000</td>\n",
       "      <td>0.000000</td>\n",
       "      <td>0.693147</td>\n",
       "      <td>...</td>\n",
       "      <td>0.000000</td>\n",
       "      <td>1.098612</td>\n",
       "      <td>0.0</td>\n",
       "      <td>1.098612</td>\n",
       "      <td>0.000000</td>\n",
       "      <td>0.0</td>\n",
       "      <td>0.0</td>\n",
       "      <td>0.0</td>\n",
       "      <td>0.0</td>\n",
       "      <td>0.0</td>\n",
       "    </tr>\n",
       "  </tbody>\n",
       "</table>\n",
       "<p>2 rows × 107 columns</p>\n",
       "</div>"
      ],
      "text/plain": [
       "date                2017-05-01  2017-05-02  2017-05-03  2017-05-04  \\\n",
       "store_nbr item_nbr                                                   \n",
       "1         96995            0.0         0.0         0.0         0.0   \n",
       "          99197            0.0         0.0         0.0         0.0   \n",
       "\n",
       "date                2017-05-05  2017-05-06  2017-05-07  2017-05-08  \\\n",
       "store_nbr item_nbr                                                   \n",
       "1         96995            0.0         0.0         0.0    0.693147   \n",
       "          99197            0.0         0.0         0.0    0.000000   \n",
       "\n",
       "date                2017-05-09  2017-05-10     ...      2017-08-06  \\\n",
       "store_nbr item_nbr                             ...                   \n",
       "1         96995       0.693147    0.000000     ...        1.098612   \n",
       "          99197       0.000000    0.693147     ...        0.000000   \n",
       "\n",
       "date                2017-08-07  2017-08-08  2017-08-09  2017-08-10  \\\n",
       "store_nbr item_nbr                                                   \n",
       "1         96995       1.098612         0.0    0.000000    0.693147   \n",
       "          99197       1.098612         0.0    1.098612    0.000000   \n",
       "\n",
       "date                2017-08-11  2017-08-12  2017-08-13  2017-08-14  2017-08-15  \n",
       "store_nbr item_nbr                                                              \n",
       "1         96995            0.0         0.0         0.0         0.0         0.0  \n",
       "          99197            0.0         0.0         0.0         0.0         0.0  \n",
       "\n",
       "[2 rows x 107 columns]"
      ]
     },
     "execution_count": 6,
     "metadata": {},
     "output_type": "execute_result"
    }
   ],
   "source": [
    "df_2017.head(2)"
   ]
  },
  {
   "cell_type": "code",
   "execution_count": 7,
   "metadata": {},
   "outputs": [
    {
     "data": {
      "text/html": [
       "<div>\n",
       "<style>\n",
       "    .dataframe thead tr:only-child th {\n",
       "        text-align: right;\n",
       "    }\n",
       "\n",
       "    .dataframe thead th {\n",
       "        text-align: left;\n",
       "    }\n",
       "\n",
       "    .dataframe tbody tr th {\n",
       "        vertical-align: top;\n",
       "    }\n",
       "</style>\n",
       "<table border=\"1\" class=\"dataframe\">\n",
       "  <thead>\n",
       "    <tr style=\"text-align: right;\">\n",
       "      <th></th>\n",
       "      <th>date</th>\n",
       "      <th>2017-05-01 00:00:00</th>\n",
       "      <th>2017-05-02 00:00:00</th>\n",
       "      <th>2017-05-03 00:00:00</th>\n",
       "      <th>2017-05-04 00:00:00</th>\n",
       "      <th>2017-05-05 00:00:00</th>\n",
       "      <th>2017-05-06 00:00:00</th>\n",
       "      <th>2017-05-07 00:00:00</th>\n",
       "      <th>2017-05-08 00:00:00</th>\n",
       "      <th>2017-05-09 00:00:00</th>\n",
       "      <th>2017-05-10 00:00:00</th>\n",
       "      <th>...</th>\n",
       "      <th>2017-08-22 00:00:00</th>\n",
       "      <th>2017-08-23 00:00:00</th>\n",
       "      <th>2017-08-24 00:00:00</th>\n",
       "      <th>2017-08-25 00:00:00</th>\n",
       "      <th>2017-08-26 00:00:00</th>\n",
       "      <th>2017-08-27 00:00:00</th>\n",
       "      <th>2017-08-28 00:00:00</th>\n",
       "      <th>2017-08-29 00:00:00</th>\n",
       "      <th>2017-08-30 00:00:00</th>\n",
       "      <th>2017-08-31 00:00:00</th>\n",
       "    </tr>\n",
       "    <tr>\n",
       "      <th>store_nbr</th>\n",
       "      <th>item_nbr</th>\n",
       "      <th></th>\n",
       "      <th></th>\n",
       "      <th></th>\n",
       "      <th></th>\n",
       "      <th></th>\n",
       "      <th></th>\n",
       "      <th></th>\n",
       "      <th></th>\n",
       "      <th></th>\n",
       "      <th></th>\n",
       "      <th></th>\n",
       "      <th></th>\n",
       "      <th></th>\n",
       "      <th></th>\n",
       "      <th></th>\n",
       "      <th></th>\n",
       "      <th></th>\n",
       "      <th></th>\n",
       "      <th></th>\n",
       "      <th></th>\n",
       "      <th></th>\n",
       "    </tr>\n",
       "  </thead>\n",
       "  <tbody>\n",
       "    <tr>\n",
       "      <th rowspan=\"2\" valign=\"top\">1</th>\n",
       "      <th>96995</th>\n",
       "      <td>False</td>\n",
       "      <td>False</td>\n",
       "      <td>False</td>\n",
       "      <td>False</td>\n",
       "      <td>False</td>\n",
       "      <td>False</td>\n",
       "      <td>False</td>\n",
       "      <td>False</td>\n",
       "      <td>False</td>\n",
       "      <td>False</td>\n",
       "      <td>...</td>\n",
       "      <td>False</td>\n",
       "      <td>False</td>\n",
       "      <td>False</td>\n",
       "      <td>False</td>\n",
       "      <td>False</td>\n",
       "      <td>False</td>\n",
       "      <td>False</td>\n",
       "      <td>False</td>\n",
       "      <td>False</td>\n",
       "      <td>False</td>\n",
       "    </tr>\n",
       "    <tr>\n",
       "      <th>99197</th>\n",
       "      <td>False</td>\n",
       "      <td>False</td>\n",
       "      <td>False</td>\n",
       "      <td>False</td>\n",
       "      <td>False</td>\n",
       "      <td>False</td>\n",
       "      <td>False</td>\n",
       "      <td>False</td>\n",
       "      <td>False</td>\n",
       "      <td>False</td>\n",
       "      <td>...</td>\n",
       "      <td>False</td>\n",
       "      <td>False</td>\n",
       "      <td>False</td>\n",
       "      <td>False</td>\n",
       "      <td>False</td>\n",
       "      <td>False</td>\n",
       "      <td>False</td>\n",
       "      <td>False</td>\n",
       "      <td>False</td>\n",
       "      <td>False</td>\n",
       "    </tr>\n",
       "  </tbody>\n",
       "</table>\n",
       "<p>2 rows × 123 columns</p>\n",
       "</div>"
      ],
      "text/plain": [
       "date                2017-05-01  2017-05-02  2017-05-03  2017-05-04  \\\n",
       "store_nbr item_nbr                                                   \n",
       "1         96995          False       False       False       False   \n",
       "          99197          False       False       False       False   \n",
       "\n",
       "date                2017-05-05  2017-05-06  2017-05-07  2017-05-08  \\\n",
       "store_nbr item_nbr                                                   \n",
       "1         96995          False       False       False       False   \n",
       "          99197          False       False       False       False   \n",
       "\n",
       "date                2017-05-09  2017-05-10     ...      2017-08-22  \\\n",
       "store_nbr item_nbr                             ...                   \n",
       "1         96995          False       False     ...           False   \n",
       "          99197          False       False     ...           False   \n",
       "\n",
       "date                2017-08-23  2017-08-24  2017-08-25  2017-08-26  \\\n",
       "store_nbr item_nbr                                                   \n",
       "1         96995          False       False       False       False   \n",
       "          99197          False       False       False       False   \n",
       "\n",
       "date                2017-08-27  2017-08-28  2017-08-29  2017-08-30  2017-08-31  \n",
       "store_nbr item_nbr                                                              \n",
       "1         96995          False       False       False       False       False  \n",
       "          99197          False       False       False       False       False  \n",
       "\n",
       "[2 rows x 123 columns]"
      ]
     },
     "execution_count": 7,
     "metadata": {},
     "output_type": "execute_result"
    }
   ],
   "source": [
    "promo_2017.head(2)"
   ]
  },
  {
   "cell_type": "code",
   "execution_count": 135,
   "metadata": {
    "collapsed": true
   },
   "outputs": [],
   "source": [
    "def get_timespan(df, dt, minus, periods, freq='D'):\n",
    "    return df[pd.date_range(dt - timedelta(days=minus), periods=periods, freq=freq)]\n",
    "\n",
    "\n",
    "def prepare_dataset(t2017, is_train=True):\n",
    "    X = pd.DataFrame({\n",
    "       \"item_nbr\": df_2017_nbr.item_nbr,\n",
    "       \"store_nbr\": df_2017_nbr.store_nbr,\n",
    "       \"date\": (t2017 + delta), \n",
    "        \"mean_3_2017\": get_timespan(df_2017, t2017, 3, 3).mean(axis=1).values,\n",
    "        \"mean_7_2017\": get_timespan(df_2017, t2017, 7, 7).mean(axis=1).values,\n",
    "        \"mean_14_2017\": get_timespan(df_2017, t2017, 14, 14).mean(axis=1).values,\n",
    "        \"promo_14_2017\": get_timespan(promo_2017, t2017, 14, 14).sum(axis=1).values\n",
    "    })\n",
    "    \n",
    "    for i in range(7):\n",
    "        X['mean_4_dow{}_2017'.format(i)] = get_timespan(df_2017, t2017, 28-i, 4, freq='7D').mean(axis=1).values\n",
    "\n",
    "    for i in range(16):\n",
    "        X[\"promo_{}\".format(i)] = promo_2017[\n",
    "            t2017 + timedelta(days=i)].values.astype(np.uint8)\n",
    "    \n",
    "#    X['dow'] = X['date'].dt.dayofweek\n",
    "    if is_train:\n",
    "        y = df_2017[\n",
    "            pd.date_range(t2017, periods=16)\n",
    "        ].values\n",
    "        return X, y\n",
    "    return X\n"
   ]
  },
  {
   "cell_type": "code",
   "execution_count": 197,
   "metadata": {
    "scrolled": true
   },
   "outputs": [
    {
     "name": "stdout",
     "output_type": "stream",
     "text": [
      "Preparing dataset...\n"
     ]
    }
   ],
   "source": [
    "\n",
    "print(\"Preparing dataset...\")\n",
    "t2017 = date(2017, 6, 21)\n",
    "X_l, y_l = [], []\n",
    "for i in range(4):\n",
    "    delta = timedelta(days=7 * i)\n",
    "    X_tmp, y_tmp = prepare_dataset(\n",
    "        t2017 + delta\n",
    "    )\n",
    "    X_l.append(X_tmp)\n",
    "    y_l.append(y_tmp)\n",
    "X_train = pd.concat(X_l, axis=0)\n",
    "y_train = np.concatenate(y_l, axis=0)\n",
    "#del X_l, y_l\n",
    "X_val, y_val = prepare_dataset(date(2017, 7, 26))\n",
    "X_test = prepare_dataset(date(2017, 8, 16), is_train=False)\n"
   ]
  },
  {
   "cell_type": "code",
   "execution_count": 139,
   "metadata": {},
   "outputs": [
    {
     "data": {
      "text/plain": [
       "(13220, 16)"
      ]
     },
     "execution_count": 139,
     "metadata": {},
     "output_type": "execute_result"
    }
   ],
   "source": [
    "y_train.shape"
   ]
  },
  {
   "cell_type": "code",
   "execution_count": 140,
   "metadata": {},
   "outputs": [],
   "source": [
    "y_columns = ['Day'+str(i) for i in range(1, 17)]"
   ]
  },
  {
   "cell_type": "code",
   "execution_count": 141,
   "metadata": {},
   "outputs": [],
   "source": [
    "df_y_train = pd.DataFrame(data= y_train,\n",
    "             columns= y_columns)"
   ]
  },
  {
   "cell_type": "code",
   "execution_count": 142,
   "metadata": {},
   "outputs": [
    {
     "data": {
      "text/plain": [
       "(13220, 30)"
      ]
     },
     "execution_count": 142,
     "metadata": {},
     "output_type": "execute_result"
    }
   ],
   "source": [
    "X_train.shape"
   ]
  },
  {
   "cell_type": "code",
   "execution_count": 143,
   "metadata": {},
   "outputs": [
    {
     "data": {
      "text/plain": [
       "(13220, 16)"
      ]
     },
     "execution_count": 143,
     "metadata": {},
     "output_type": "execute_result"
    }
   ],
   "source": [
    "df_y_train.shape"
   ]
  },
  {
   "cell_type": "code",
   "execution_count": 145,
   "metadata": {},
   "outputs": [
    {
     "data": {
      "text/html": [
       "<div>\n",
       "<style>\n",
       "    .dataframe thead tr:only-child th {\n",
       "        text-align: right;\n",
       "    }\n",
       "\n",
       "    .dataframe thead th {\n",
       "        text-align: left;\n",
       "    }\n",
       "\n",
       "    .dataframe tbody tr th {\n",
       "        vertical-align: top;\n",
       "    }\n",
       "</style>\n",
       "<table border=\"1\" class=\"dataframe\">\n",
       "  <thead>\n",
       "    <tr style=\"text-align: right;\">\n",
       "      <th></th>\n",
       "      <th>Day1</th>\n",
       "      <th>Day2</th>\n",
       "      <th>Day3</th>\n",
       "      <th>Day4</th>\n",
       "      <th>Day5</th>\n",
       "      <th>Day6</th>\n",
       "      <th>Day7</th>\n",
       "      <th>Day8</th>\n",
       "      <th>Day9</th>\n",
       "      <th>Day10</th>\n",
       "      <th>Day11</th>\n",
       "      <th>Day12</th>\n",
       "      <th>Day13</th>\n",
       "      <th>Day14</th>\n",
       "      <th>Day15</th>\n",
       "      <th>Day16</th>\n",
       "    </tr>\n",
       "  </thead>\n",
       "  <tbody>\n",
       "    <tr>\n",
       "      <th>0</th>\n",
       "      <td>0.0</td>\n",
       "      <td>0.0</td>\n",
       "      <td>0.0</td>\n",
       "      <td>0.0</td>\n",
       "      <td>0.693147</td>\n",
       "      <td>0.0</td>\n",
       "      <td>0.0</td>\n",
       "      <td>0.0</td>\n",
       "      <td>0.693147</td>\n",
       "      <td>0.0</td>\n",
       "      <td>0.0</td>\n",
       "      <td>0.0</td>\n",
       "      <td>0.0</td>\n",
       "      <td>0.0</td>\n",
       "      <td>0.0</td>\n",
       "      <td>0.0</td>\n",
       "    </tr>\n",
       "  </tbody>\n",
       "</table>\n",
       "</div>"
      ],
      "text/plain": [
       "   Day1  Day2  Day3  Day4      Day5  Day6  Day7  Day8      Day9  Day10  Day11  \\\n",
       "0   0.0   0.0   0.0   0.0  0.693147   0.0   0.0   0.0  0.693147    0.0    0.0   \n",
       "\n",
       "   Day12  Day13  Day14  Day15  Day16  \n",
       "0    0.0    0.0    0.0    0.0    0.0  "
      ]
     },
     "execution_count": 145,
     "metadata": {},
     "output_type": "execute_result"
    }
   ],
   "source": [
    "df_y_train.head(1)"
   ]
  },
  {
   "cell_type": "code",
   "execution_count": 154,
   "metadata": {},
   "outputs": [
    {
     "data": {
      "text/html": [
       "<div>\n",
       "<style>\n",
       "    .dataframe thead tr:only-child th {\n",
       "        text-align: right;\n",
       "    }\n",
       "\n",
       "    .dataframe thead th {\n",
       "        text-align: left;\n",
       "    }\n",
       "\n",
       "    .dataframe tbody tr th {\n",
       "        vertical-align: top;\n",
       "    }\n",
       "</style>\n",
       "<table border=\"1\" class=\"dataframe\">\n",
       "  <thead>\n",
       "    <tr style=\"text-align: right;\">\n",
       "      <th></th>\n",
       "      <th>date</th>\n",
       "      <th>item_nbr</th>\n",
       "      <th>mean_14_2017</th>\n",
       "      <th>mean_3_2017</th>\n",
       "      <th>mean_7_2017</th>\n",
       "      <th>promo_14_2017</th>\n",
       "      <th>store_nbr</th>\n",
       "      <th>mean_4_dow0_2017</th>\n",
       "      <th>mean_4_dow1_2017</th>\n",
       "      <th>mean_4_dow2_2017</th>\n",
       "      <th>...</th>\n",
       "      <th>promo_6</th>\n",
       "      <th>promo_7</th>\n",
       "      <th>promo_8</th>\n",
       "      <th>promo_9</th>\n",
       "      <th>promo_10</th>\n",
       "      <th>promo_11</th>\n",
       "      <th>promo_12</th>\n",
       "      <th>promo_13</th>\n",
       "      <th>promo_14</th>\n",
       "      <th>promo_15</th>\n",
       "    </tr>\n",
       "  </thead>\n",
       "  <tbody>\n",
       "    <tr>\n",
       "      <th>0</th>\n",
       "      <td>2017-06-21</td>\n",
       "      <td>96995</td>\n",
       "      <td>0.099021</td>\n",
       "      <td>0.0</td>\n",
       "      <td>0.099021</td>\n",
       "      <td>0</td>\n",
       "      <td>1</td>\n",
       "      <td>0.346574</td>\n",
       "      <td>0.173287</td>\n",
       "      <td>0.173287</td>\n",
       "      <td>...</td>\n",
       "      <td>0</td>\n",
       "      <td>0</td>\n",
       "      <td>0</td>\n",
       "      <td>0</td>\n",
       "      <td>0</td>\n",
       "      <td>0</td>\n",
       "      <td>0</td>\n",
       "      <td>0</td>\n",
       "      <td>0</td>\n",
       "      <td>0</td>\n",
       "    </tr>\n",
       "  </tbody>\n",
       "</table>\n",
       "<p>1 rows × 30 columns</p>\n",
       "</div>"
      ],
      "text/plain": [
       "         date  item_nbr  mean_14_2017  mean_3_2017  mean_7_2017  \\\n",
       "0  2017-06-21     96995      0.099021          0.0     0.099021   \n",
       "\n",
       "   promo_14_2017  store_nbr  mean_4_dow0_2017  mean_4_dow1_2017  \\\n",
       "0              0          1          0.346574          0.173287   \n",
       "\n",
       "   mean_4_dow2_2017    ...     promo_6  promo_7  promo_8  promo_9  promo_10  \\\n",
       "0          0.173287    ...           0        0        0        0         0   \n",
       "\n",
       "   promo_11  promo_12  promo_13  promo_14  promo_15  \n",
       "0         0         0         0         0         0  \n",
       "\n",
       "[1 rows x 30 columns]"
      ]
     },
     "execution_count": 154,
     "metadata": {},
     "output_type": "execute_result"
    }
   ],
   "source": [
    "X_train.head(1)"
   ]
  },
  {
   "cell_type": "code",
   "execution_count": 162,
   "metadata": {},
   "outputs": [
    {
     "data": {
      "text/plain": [
       "RangeIndex(start=0, stop=13220, step=1)"
      ]
     },
     "execution_count": 162,
     "metadata": {},
     "output_type": "execute_result"
    }
   ],
   "source": [
    "df_y_train.index"
   ]
  },
  {
   "cell_type": "code",
   "execution_count": 176,
   "metadata": {},
   "outputs": [
    {
     "data": {
      "text/plain": [
       "range(0, 13220)"
      ]
     },
     "execution_count": 176,
     "metadata": {},
     "output_type": "execute_result"
    }
   ],
   "source": [
    "range(len(X_train))"
   ]
  },
  {
   "cell_type": "code",
   "execution_count": 199,
   "metadata": {},
   "outputs": [],
   "source": [
    "X_train.reset_index(inplace = True)"
   ]
  },
  {
   "cell_type": "code",
   "execution_count": 200,
   "metadata": {},
   "outputs": [],
   "source": [
    "X_train = X_train.reindex(index=df_y_train.index)"
   ]
  },
  {
   "cell_type": "code",
   "execution_count": 195,
   "metadata": {},
   "outputs": [],
   "source": [
    "train_out = pd.concat([ X_train, df_y_train], axis = 1)"
   ]
  },
  {
   "cell_type": "code",
   "execution_count": 201,
   "metadata": {},
   "outputs": [],
   "source": [
    "train_out.to_pickle('../data/train_storeitem.p')"
   ]
  },
  {
   "cell_type": "code",
   "execution_count": 202,
   "metadata": {},
   "outputs": [],
   "source": [
    "train_out = pd.read_pickle('../data/train_storeitem.p')"
   ]
  },
  {
   "cell_type": "code",
   "execution_count": 218,
   "metadata": {
    "collapsed": true
   },
   "outputs": [],
   "source": [
    "all_columns = train_out.columns.tolist()"
   ]
  },
  {
   "cell_type": "code",
   "execution_count": null,
   "metadata": {
    "collapsed": true
   },
   "outputs": [],
   "source": [
    "y_columns = ['Day'+str(i) for i in range(1, 17)]"
   ]
  },
  {
   "cell_type": "code",
   "execution_count": 243,
   "metadata": {},
   "outputs": [],
   "source": [
    "x_columns = [item for item in all_columns if item not in y_columns]"
   ]
  },
  {
   "cell_type": "code",
   "execution_count": 235,
   "metadata": {},
   "outputs": [],
   "source": [
    "X_train = train_out[x_columns]"
   ]
  },
  {
   "cell_type": "code",
   "execution_count": 212,
   "metadata": {},
   "outputs": [],
   "source": [
    "y_train = train_out[y_columns].values"
   ]
  },
  {
   "cell_type": "code",
   "execution_count": 244,
   "metadata": {},
   "outputs": [],
   "source": [
    "features_all = x_columns\n",
    "features_all.remove(\"index\") \n",
    "features_all.remove(\"date\") \n",
    "features_all.remove(\"item_nbr\") \n",
    "features_all.remove(\"store_nbr\") \n"
   ]
  },
  {
   "cell_type": "code",
   "execution_count": 245,
   "metadata": {},
   "outputs": [
    {
     "name": "stdout",
     "output_type": "stream",
     "text": [
      "['mean_14_2017', 'mean_3_2017', 'mean_7_2017', 'promo_14_2017', 'mean_4_dow0_2017', 'mean_4_dow1_2017', 'mean_4_dow2_2017', 'mean_4_dow3_2017', 'mean_4_dow4_2017', 'mean_4_dow5_2017', 'mean_4_dow6_2017', 'promo_0', 'promo_1', 'promo_2', 'promo_3', 'promo_4', 'promo_5', 'promo_6', 'promo_7', 'promo_8', 'promo_9', 'promo_10', 'promo_11', 'promo_12', 'promo_13', 'promo_14', 'promo_15']\n"
     ]
    }
   ],
   "source": [
    "print(features_all)"
   ]
  },
  {
   "cell_type": "code",
   "execution_count": 241,
   "metadata": {},
   "outputs": [
    {
     "name": "stdout",
     "output_type": "stream",
     "text": [
      "   index  mean_14_2017  mean_3_2017  mean_7_2017  promo_14_2017  store_nbr  \\\n",
      "0      0      0.099021          0.0     0.099021              0          1   \n",
      "\n",
      "   mean_4_dow0_2017  mean_4_dow1_2017  mean_4_dow2_2017  mean_4_dow3_2017  \\\n",
      "0          0.346574          0.173287          0.173287          0.173287   \n",
      "\n",
      "   mean_4_dow4_2017  mean_4_dow5_2017  mean_4_dow6_2017  promo_0  \n",
      "0          0.173287               0.0               0.0        0  \n",
      "   index  mean_14_2017  mean_3_2017  mean_7_2017  promo_14_2017  store_nbr  \\\n",
      "0      0      0.099021          0.0     0.099021              0          1   \n",
      "\n",
      "   mean_4_dow0_2017  mean_4_dow1_2017  mean_4_dow2_2017  mean_4_dow3_2017  \\\n",
      "0          0.346574          0.173287          0.173287          0.173287   \n",
      "\n",
      "   mean_4_dow4_2017  mean_4_dow5_2017  mean_4_dow6_2017  promo_1  \n",
      "0          0.173287               0.0               0.0        0  \n",
      "   index  mean_14_2017  mean_3_2017  mean_7_2017  promo_14_2017  store_nbr  \\\n",
      "0      0      0.099021          0.0     0.099021              0          1   \n",
      "\n",
      "   mean_4_dow0_2017  mean_4_dow1_2017  mean_4_dow2_2017  mean_4_dow3_2017  \\\n",
      "0          0.346574          0.173287          0.173287          0.173287   \n",
      "\n",
      "   mean_4_dow4_2017  mean_4_dow5_2017  mean_4_dow6_2017  promo_2  \n",
      "0          0.173287               0.0               0.0        0  \n",
      "   index  mean_14_2017  mean_3_2017  mean_7_2017  promo_14_2017  store_nbr  \\\n",
      "0      0      0.099021          0.0     0.099021              0          1   \n",
      "\n",
      "   mean_4_dow0_2017  mean_4_dow1_2017  mean_4_dow2_2017  mean_4_dow3_2017  \\\n",
      "0          0.346574          0.173287          0.173287          0.173287   \n",
      "\n",
      "   mean_4_dow4_2017  mean_4_dow5_2017  mean_4_dow6_2017  promo_3  \n",
      "0          0.173287               0.0               0.0        0  \n",
      "   index  mean_14_2017  mean_3_2017  mean_7_2017  promo_14_2017  store_nbr  \\\n",
      "0      0      0.099021          0.0     0.099021              0          1   \n",
      "\n",
      "   mean_4_dow0_2017  mean_4_dow1_2017  mean_4_dow2_2017  mean_4_dow3_2017  \\\n",
      "0          0.346574          0.173287          0.173287          0.173287   \n",
      "\n",
      "   mean_4_dow4_2017  mean_4_dow5_2017  mean_4_dow6_2017  promo_4  \n",
      "0          0.173287               0.0               0.0        0  \n",
      "   index  mean_14_2017  mean_3_2017  mean_7_2017  promo_14_2017  store_nbr  \\\n",
      "0      0      0.099021          0.0     0.099021              0          1   \n",
      "\n",
      "   mean_4_dow0_2017  mean_4_dow1_2017  mean_4_dow2_2017  mean_4_dow3_2017  \\\n",
      "0          0.346574          0.173287          0.173287          0.173287   \n",
      "\n",
      "   mean_4_dow4_2017  mean_4_dow5_2017  mean_4_dow6_2017  promo_5  \n",
      "0          0.173287               0.0               0.0        0  \n",
      "   index  mean_14_2017  mean_3_2017  mean_7_2017  promo_14_2017  store_nbr  \\\n",
      "0      0      0.099021          0.0     0.099021              0          1   \n",
      "\n",
      "   mean_4_dow0_2017  mean_4_dow1_2017  mean_4_dow2_2017  mean_4_dow3_2017  \\\n",
      "0          0.346574          0.173287          0.173287          0.173287   \n",
      "\n",
      "   mean_4_dow4_2017  mean_4_dow5_2017  mean_4_dow6_2017  promo_6  \n",
      "0          0.173287               0.0               0.0        0  \n",
      "   index  mean_14_2017  mean_3_2017  mean_7_2017  promo_14_2017  store_nbr  \\\n",
      "0      0      0.099021          0.0     0.099021              0          1   \n",
      "\n",
      "   mean_4_dow0_2017  mean_4_dow1_2017  mean_4_dow2_2017  mean_4_dow3_2017  \\\n",
      "0          0.346574          0.173287          0.173287          0.173287   \n",
      "\n",
      "   mean_4_dow4_2017  mean_4_dow5_2017  mean_4_dow6_2017  promo_7  \n",
      "0          0.173287               0.0               0.0        0  \n",
      "   index  mean_14_2017  mean_3_2017  mean_7_2017  promo_14_2017  store_nbr  \\\n",
      "0      0      0.099021          0.0     0.099021              0          1   \n",
      "\n",
      "   mean_4_dow0_2017  mean_4_dow1_2017  mean_4_dow2_2017  mean_4_dow3_2017  \\\n",
      "0          0.346574          0.173287          0.173287          0.173287   \n",
      "\n",
      "   mean_4_dow4_2017  mean_4_dow5_2017  mean_4_dow6_2017  promo_8  \n",
      "0          0.173287               0.0               0.0        0  \n",
      "   index  mean_14_2017  mean_3_2017  mean_7_2017  promo_14_2017  store_nbr  \\\n",
      "0      0      0.099021          0.0     0.099021              0          1   \n",
      "\n",
      "   mean_4_dow0_2017  mean_4_dow1_2017  mean_4_dow2_2017  mean_4_dow3_2017  \\\n",
      "0          0.346574          0.173287          0.173287          0.173287   \n",
      "\n",
      "   mean_4_dow4_2017  mean_4_dow5_2017  mean_4_dow6_2017  promo_9  \n",
      "0          0.173287               0.0               0.0        0  \n",
      "   index  mean_14_2017  mean_3_2017  mean_7_2017  promo_14_2017  store_nbr  \\\n",
      "0      0      0.099021          0.0     0.099021              0          1   \n",
      "\n",
      "   mean_4_dow0_2017  mean_4_dow1_2017  mean_4_dow2_2017  mean_4_dow3_2017  \\\n",
      "0          0.346574          0.173287          0.173287          0.173287   \n",
      "\n",
      "   mean_4_dow4_2017  mean_4_dow5_2017  mean_4_dow6_2017  promo_10  \n",
      "0          0.173287               0.0               0.0         0  \n",
      "   index  mean_14_2017  mean_3_2017  mean_7_2017  promo_14_2017  store_nbr  \\\n",
      "0      0      0.099021          0.0     0.099021              0          1   \n",
      "\n",
      "   mean_4_dow0_2017  mean_4_dow1_2017  mean_4_dow2_2017  mean_4_dow3_2017  \\\n",
      "0          0.346574          0.173287          0.173287          0.173287   \n",
      "\n",
      "   mean_4_dow4_2017  mean_4_dow5_2017  mean_4_dow6_2017  promo_11  \n",
      "0          0.173287               0.0               0.0         0  \n",
      "   index  mean_14_2017  mean_3_2017  mean_7_2017  promo_14_2017  store_nbr  \\\n",
      "0      0      0.099021          0.0     0.099021              0          1   \n",
      "\n",
      "   mean_4_dow0_2017  mean_4_dow1_2017  mean_4_dow2_2017  mean_4_dow3_2017  \\\n",
      "0          0.346574          0.173287          0.173287          0.173287   \n",
      "\n",
      "   mean_4_dow4_2017  mean_4_dow5_2017  mean_4_dow6_2017  promo_12  \n",
      "0          0.173287               0.0               0.0         0  \n",
      "   index  mean_14_2017  mean_3_2017  mean_7_2017  promo_14_2017  store_nbr  \\\n",
      "0      0      0.099021          0.0     0.099021              0          1   \n",
      "\n",
      "   mean_4_dow0_2017  mean_4_dow1_2017  mean_4_dow2_2017  mean_4_dow3_2017  \\\n",
      "0          0.346574          0.173287          0.173287          0.173287   \n",
      "\n",
      "   mean_4_dow4_2017  mean_4_dow5_2017  mean_4_dow6_2017  promo_13  \n",
      "0          0.173287               0.0               0.0         0  \n",
      "   index  mean_14_2017  mean_3_2017  mean_7_2017  promo_14_2017  store_nbr  \\\n",
      "0      0      0.099021          0.0     0.099021              0          1   \n",
      "\n",
      "   mean_4_dow0_2017  mean_4_dow1_2017  mean_4_dow2_2017  mean_4_dow3_2017  \\\n",
      "0          0.346574          0.173287          0.173287          0.173287   \n",
      "\n",
      "   mean_4_dow4_2017  mean_4_dow5_2017  mean_4_dow6_2017  promo_14  \n",
      "0          0.173287               0.0               0.0         0  \n",
      "   index  mean_14_2017  mean_3_2017  mean_7_2017  promo_14_2017  store_nbr  \\\n",
      "0      0      0.099021          0.0     0.099021              0          1   \n",
      "\n",
      "   mean_4_dow0_2017  mean_4_dow1_2017  mean_4_dow2_2017  mean_4_dow3_2017  \\\n",
      "0          0.346574          0.173287          0.173287          0.173287   \n",
      "\n",
      "   mean_4_dow4_2017  mean_4_dow5_2017  mean_4_dow6_2017  promo_15  \n",
      "0          0.173287               0.0               0.0         0  \n"
     ]
    }
   ],
   "source": [
    "features_all = X_train.columns.tolist()\n",
    "for i in range(16):\n",
    "    features_t = features_all.copy()\n",
    "    for j in range(16):\n",
    "        if j != i:\n",
    "            features_t.remove(\"promo_{}\".format(j))\n",
    "    print(X_train[features_t].head(1))\n",
    "#X_train.groupby([\"dow\"]).size()\n",
    "#X_train[\"mean_4_dow{}_2017\".format(0)].head(2)"
   ]
  },
  {
   "cell_type": "code",
   "execution_count": 334,
   "metadata": {},
   "outputs": [
    {
     "data": {
      "text/plain": [
       "array([[ 0.        ,  0.        ,  0.        , ...,  0.        ,\n",
       "         0.        ,  0.        ],\n",
       "       [ 0.69314718,  0.        ,  0.        , ...,  0.        ,\n",
       "         0.        ,  1.38629436],\n",
       "       [ 0.69314718,  1.38629436,  1.38629436, ...,  0.        ,\n",
       "         0.69314718,  1.94591015],\n",
       "       ..., \n",
       "       [ 0.        ,  0.        ,  0.        , ...,  0.        ,\n",
       "         0.        ,  0.        ],\n",
       "       [ 0.        ,  0.        ,  0.        , ...,  0.69314718,\n",
       "         1.79175947,  1.60943791],\n",
       "       [ 0.        ,  0.        ,  0.        , ...,  0.        ,\n",
       "         0.        ,  0.        ]])"
      ]
     },
     "execution_count": 334,
     "metadata": {},
     "output_type": "execute_result"
    }
   ],
   "source": [
    "y_train"
   ]
  },
  {
   "cell_type": "code",
   "execution_count": 338,
   "metadata": {},
   "outputs": [
    {
     "name": "stderr",
     "output_type": "stream",
     "text": [
      "2018-01-01 20:21:38,530 __main__ 1 [INFO][<module>] Training and predicting models... \n",
      "2018-01-01 20:21:38,530 __main__ 1 [INFO][<module>] Training and predicting models... \n",
      "2018-01-01 20:21:38,530 __main__ 1 [INFO][<module>] Training and predicting models... \n"
     ]
    },
    {
     "name": "stdout",
     "output_type": "stream",
     "text": [
      "==================================================\n",
      "Step 1\n",
      "==================================================\n"
     ]
    }
   ],
   "source": [
    "logger.info('Training and predicting models...')\n",
    "\n",
    "params = {\n",
    "    'num_leaves': 31,\n",
    "    'objective': 'regression',\n",
    "    'min_data_in_leaf': 300,\n",
    "    'learning_rate': 0.1,\n",
    "    'feature_fraction': 0.8,\n",
    "    'bagging_fraction': 0.8,\n",
    "    'bagging_freq': 2,\n",
    "    'metric': 'l2',\n",
    "    'num_threads': 4\n",
    "}\n",
    "\n",
    "MAX_ROUNDS = 500\n",
    "val_pred = []\n",
    "test_pred = []\n",
    "cate_vars = []\n",
    "\n",
    "i = 0\n",
    "\n",
    "print(\"=\" * 50)\n",
    "print(\"Step %d\" % (i+1))\n",
    "print(\"=\" * 50)\n",
    "\n",
    "dtrain = lgb.Dataset(\n",
    "    X_train, label=y_train[:, i],\n",
    "    categorical_feature=cate_vars\n",
    ")\n",
    "dval = lgb.Dataset(\n",
    "     X_val, label=y_val[:, i], reference=dtrain,\n",
    "     weight=items[\"perishable\"] * 0.25 + 1,\n",
    "     categorical_feature=cate_vars)\n",
    "\n"
   ]
  },
  {
   "cell_type": "code",
   "execution_count": 341,
   "metadata": {},
   "outputs": [
    {
     "data": {
      "text/plain": [
       "array([[ 0.        ,  0.        ,  0.        , ...,  0.        ,\n",
       "         0.        ,  0.        ],\n",
       "       [ 0.69314718,  0.        ,  0.        , ...,  0.        ,\n",
       "         0.        ,  1.38629436],\n",
       "       [ 0.69314718,  1.38629436,  1.38629436, ...,  0.        ,\n",
       "         0.69314718,  1.94591015],\n",
       "       ..., \n",
       "       [ 0.        ,  0.        ,  0.        , ...,  0.        ,\n",
       "         0.        ,  0.        ],\n",
       "       [ 0.        ,  0.        ,  0.        , ...,  0.69314718,\n",
       "         1.79175947,  1.60943791],\n",
       "       [ 0.        ,  0.        ,  0.        , ...,  0.        ,\n",
       "         0.        ,  0.        ]])"
      ]
     },
     "execution_count": 341,
     "metadata": {},
     "output_type": "execute_result"
    }
   ],
   "source": [
    "y_train"
   ]
  },
  {
   "cell_type": "code",
   "execution_count": 339,
   "metadata": {},
   "outputs": [
    {
     "name": "stderr",
     "output_type": "stream",
     "text": [
      "/home/zyp/anaconda3/lib/python3.6/site-packages/lightgbm/basic.py:1027: UserWarning: Using categorical_feature in Dataset.\n",
      "  warnings.warn('Using categorical_feature in Dataset.')\n"
     ]
    },
    {
     "name": "stdout",
     "output_type": "stream",
     "text": [
      "Training until validation scores don't improve for 50 rounds.\n"
     ]
    },
    {
     "ename": "TypeError",
     "evalue": "'NoneType' object is not iterable",
     "output_type": "error",
     "traceback": [
      "\u001b[0;31m---------------------------------------------------------------------------\u001b[0m",
      "\u001b[0;31mTypeError\u001b[0m                                 Traceback (most recent call last)",
      "\u001b[0;32m<ipython-input-339-50cd8f54d91f>\u001b[0m in \u001b[0;36m<module>\u001b[0;34m()\u001b[0m\n\u001b[1;32m      3\u001b[0m     \u001b[0mparams\u001b[0m\u001b[0;34m,\u001b[0m \u001b[0mdtrain\u001b[0m\u001b[0;34m,\u001b[0m \u001b[0mnum_boost_round\u001b[0m\u001b[0;34m=\u001b[0m\u001b[0mMAX_ROUNDS\u001b[0m\u001b[0;34m,\u001b[0m\u001b[0;34m\u001b[0m\u001b[0m\n\u001b[1;32m      4\u001b[0m     \u001b[0mvalid_sets\u001b[0m\u001b[0;34m=\u001b[0m\u001b[0;34m[\u001b[0m\u001b[0mdtrain\u001b[0m\u001b[0;34m,\u001b[0m \u001b[0mdval\u001b[0m\u001b[0;34m]\u001b[0m\u001b[0;34m,\u001b[0m \u001b[0mearly_stopping_rounds\u001b[0m\u001b[0;34m=\u001b[0m\u001b[0;36m50\u001b[0m\u001b[0;34m,\u001b[0m\u001b[0;34m\u001b[0m\u001b[0m\n\u001b[0;32m----> 5\u001b[0;31m     \u001b[0mverbose_eval\u001b[0m\u001b[0;34m=\u001b[0m\u001b[0;36m100\u001b[0m\u001b[0;34m\u001b[0m\u001b[0m\n\u001b[0m\u001b[1;32m      6\u001b[0m )\n\u001b[1;32m      7\u001b[0m \u001b[0;34m\u001b[0m\u001b[0m\n",
      "\u001b[0;32m~/anaconda3/lib/python3.6/site-packages/lightgbm/engine.py\u001b[0m in \u001b[0;36mtrain\u001b[0;34m(params, train_set, num_boost_round, valid_sets, valid_names, fobj, feval, init_model, feature_name, categorical_feature, early_stopping_rounds, evals_result, verbose_eval, learning_rates, keep_training_booster, callbacks)\u001b[0m\n\u001b[1;32m    214\u001b[0m                                         \u001b[0mbegin_iteration\u001b[0m\u001b[0;34m=\u001b[0m\u001b[0minit_iteration\u001b[0m\u001b[0;34m,\u001b[0m\u001b[0;34m\u001b[0m\u001b[0m\n\u001b[1;32m    215\u001b[0m                                         \u001b[0mend_iteration\u001b[0m\u001b[0;34m=\u001b[0m\u001b[0minit_iteration\u001b[0m \u001b[0;34m+\u001b[0m \u001b[0mnum_boost_round\u001b[0m\u001b[0;34m,\u001b[0m\u001b[0;34m\u001b[0m\u001b[0m\n\u001b[0;32m--> 216\u001b[0;31m                                         evaluation_result_list=evaluation_result_list))\n\u001b[0m\u001b[1;32m    217\u001b[0m         \u001b[0;32mexcept\u001b[0m \u001b[0mcallback\u001b[0m\u001b[0;34m.\u001b[0m\u001b[0mEarlyStopException\u001b[0m \u001b[0;32mas\u001b[0m \u001b[0mearlyStopException\u001b[0m\u001b[0;34m:\u001b[0m\u001b[0;34m\u001b[0m\u001b[0m\n\u001b[1;32m    218\u001b[0m             \u001b[0mbooster\u001b[0m\u001b[0;34m.\u001b[0m\u001b[0mbest_iteration\u001b[0m \u001b[0;34m=\u001b[0m \u001b[0mearlyStopException\u001b[0m\u001b[0;34m.\u001b[0m\u001b[0mbest_iteration\u001b[0m \u001b[0;34m+\u001b[0m \u001b[0;36m1\u001b[0m\u001b[0;34m\u001b[0m\u001b[0m\n",
      "\u001b[0;32m~/anaconda3/lib/python3.6/site-packages/lightgbm/callback.py\u001b[0m in \u001b[0;36mcallback\u001b[0;34m(env)\u001b[0m\n\u001b[1;32m    205\u001b[0m                 \u001b[0;32mif\u001b[0m \u001b[0mverbose\u001b[0m\u001b[0;34m:\u001b[0m\u001b[0;34m\u001b[0m\u001b[0m\n\u001b[1;32m    206\u001b[0m                     print('Early stopping, best iteration is:\\n[%d]\\t%s' % (\n\u001b[0;32m--> 207\u001b[0;31m                         best_iter[i] + 1, '\\t'.join([_format_eval_result(x) for x in best_score_list[i]])))\n\u001b[0m\u001b[1;32m    208\u001b[0m                 \u001b[0;32mraise\u001b[0m \u001b[0mEarlyStopException\u001b[0m\u001b[0;34m(\u001b[0m\u001b[0mbest_iter\u001b[0m\u001b[0;34m[\u001b[0m\u001b[0mi\u001b[0m\u001b[0;34m]\u001b[0m\u001b[0;34m,\u001b[0m \u001b[0mbest_score_list\u001b[0m\u001b[0;34m[\u001b[0m\u001b[0mi\u001b[0m\u001b[0;34m]\u001b[0m\u001b[0;34m)\u001b[0m\u001b[0;34m\u001b[0m\u001b[0m\n\u001b[1;32m    209\u001b[0m             \u001b[0;32mif\u001b[0m \u001b[0menv\u001b[0m\u001b[0;34m.\u001b[0m\u001b[0miteration\u001b[0m \u001b[0;34m==\u001b[0m \u001b[0menv\u001b[0m\u001b[0;34m.\u001b[0m\u001b[0mend_iteration\u001b[0m \u001b[0;34m-\u001b[0m \u001b[0;36m1\u001b[0m\u001b[0;34m:\u001b[0m\u001b[0;34m\u001b[0m\u001b[0m\n",
      "\u001b[0;31mTypeError\u001b[0m: 'NoneType' object is not iterable"
     ]
    }
   ],
   "source": [
    "\n",
    "bst = lgb.train(\n",
    "    params, dtrain, num_boost_round=MAX_ROUNDS,\n",
    "    valid_sets=[dtrain, dval], early_stopping_rounds=50,\n",
    "    verbose_eval=100\n",
    ")\n",
    "\n"
   ]
  },
  {
   "cell_type": "code",
   "execution_count": null,
   "metadata": {
    "collapsed": true
   },
   "outputs": [],
   "source": [
    "features_all = X_train.columns.tolist()\n",
    "i = 0\n",
    "features_t = features_all.copy()\n",
    "for j in range(16):\n",
    "    if j != i:\n",
    "        features_t.remove(\"promo_{}\".format(j))\n",
    "X_train[features_t].head(1)"
   ]
  },
  {
   "cell_type": "code",
   "execution_count": 111,
   "metadata": {},
   "outputs": [
    {
     "data": {
      "text/html": [
       "<div>\n",
       "<style>\n",
       "    .dataframe thead tr:only-child th {\n",
       "        text-align: right;\n",
       "    }\n",
       "\n",
       "    .dataframe thead th {\n",
       "        text-align: left;\n",
       "    }\n",
       "\n",
       "    .dataframe tbody tr th {\n",
       "        vertical-align: top;\n",
       "    }\n",
       "</style>\n",
       "<table border=\"1\" class=\"dataframe\">\n",
       "  <thead>\n",
       "    <tr style=\"text-align: right;\">\n",
       "      <th></th>\n",
       "      <th>mean_14_2017</th>\n",
       "      <th>mean_3_2017</th>\n",
       "      <th>mean_7_2017</th>\n",
       "      <th>promo_14_2017</th>\n",
       "      <th>promo_0</th>\n",
       "      <th>promo_1</th>\n",
       "      <th>promo_2</th>\n",
       "      <th>promo_3</th>\n",
       "      <th>promo_4</th>\n",
       "      <th>promo_5</th>\n",
       "      <th>promo_6</th>\n",
       "      <th>promo_7</th>\n",
       "      <th>promo_8</th>\n",
       "      <th>promo_9</th>\n",
       "      <th>promo_10</th>\n",
       "      <th>promo_11</th>\n",
       "      <th>promo_12</th>\n",
       "      <th>promo_13</th>\n",
       "      <th>promo_14</th>\n",
       "      <th>promo_15</th>\n",
       "    </tr>\n",
       "  </thead>\n",
       "  <tbody>\n",
       "    <tr>\n",
       "      <th>0</th>\n",
       "      <td>1.601666</td>\n",
       "      <td>1.595831</td>\n",
       "      <td>1.326757</td>\n",
       "      <td>0</td>\n",
       "      <td>0</td>\n",
       "      <td>0</td>\n",
       "      <td>0</td>\n",
       "      <td>0</td>\n",
       "      <td>0</td>\n",
       "      <td>0</td>\n",
       "      <td>0</td>\n",
       "      <td>0</td>\n",
       "      <td>0</td>\n",
       "      <td>0</td>\n",
       "      <td>0</td>\n",
       "      <td>0</td>\n",
       "      <td>0</td>\n",
       "      <td>0</td>\n",
       "      <td>0</td>\n",
       "      <td>0</td>\n",
       "    </tr>\n",
       "  </tbody>\n",
       "</table>\n",
       "</div>"
      ],
      "text/plain": [
       "   mean_14_2017  mean_3_2017  mean_7_2017  promo_14_2017  promo_0  promo_1  \\\n",
       "0      1.601666     1.595831     1.326757              0        0        0   \n",
       "\n",
       "   promo_2  promo_3  promo_4  promo_5  promo_6  promo_7  promo_8  promo_9  \\\n",
       "0        0        0        0        0        0        0        0        0   \n",
       "\n",
       "   promo_10  promo_11  promo_12  promo_13  promo_14  promo_15  \n",
       "0         0         0         0         0         0         0  "
      ]
     },
     "execution_count": 111,
     "metadata": {},
     "output_type": "execute_result"
    }
   ],
   "source": []
  }
 ],
 "metadata": {
  "kernelspec": {
   "display_name": "Python 3",
   "language": "python",
   "name": "python3"
  },
  "language_info": {
   "codemirror_mode": {
    "name": "ipython",
    "version": 3
   },
   "file_extension": ".py",
   "mimetype": "text/x-python",
   "name": "python",
   "nbconvert_exporter": "python",
   "pygments_lexer": "ipython3",
   "version": "3.6.3"
  }
 },
 "nbformat": 4,
 "nbformat_minor": 2
}
