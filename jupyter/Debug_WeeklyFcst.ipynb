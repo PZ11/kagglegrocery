{
 "cells": [
  {
   "cell_type": "code",
   "execution_count": 368,
   "metadata": {},
   "outputs": [
    {
     "name": "stderr",
     "output_type": "stream",
     "text": [
      "2018-01-14 22:52:54,421 __main__ 38 [INFO]    [<module>] start \n",
      "2018-01-14 22:52:54,421 __main__ 38 [INFO]    [<module>] start \n",
      "2018-01-14 22:52:54,421 __main__ 38 [INFO]    [<module>] start \n",
      "2018-01-14 22:52:54,421 __main__ 38 [INFO]    [<module>] start \n",
      "2018-01-14 22:52:54,421 __main__ 38 [INFO]    [<module>] start \n",
      "2018-01-14 22:52:54,421 __main__ 38 [INFO]    [<module>] start \n",
      "2018-01-14 22:52:54,421 __main__ 38 [INFO]    [<module>] start \n",
      "2018-01-14 22:52:54,421 __main__ 38 [INFO]    [<module>] start \n",
      "2018-01-14 22:52:54,421 __main__ 38 [INFO]    [<module>] start \n",
      "2018-01-14 22:52:54,421 __main__ 38 [INFO]    [<module>] start \n",
      "2018-01-14 22:52:54,421 __main__ 38 [INFO]    [<module>] start \n",
      "2018-01-14 22:52:54,421 __main__ 38 [INFO]    [<module>] start \n",
      "2018-01-14 22:52:54,421 __main__ 38 [INFO]    [<module>] start \n",
      "2018-01-14 22:52:54,421 __main__ 38 [INFO]    [<module>] start \n"
     ]
    }
   ],
   "source": [
    "\n",
    "\"\"\"\n",
    "This is an upgraded version of Ceshine's LGBM starter script, simply adding\n",
    "more average features and weekly average features on it.\n",
    "\"\"\"\n",
    "from datetime import date, timedelta\n",
    "\n",
    "import pandas as pd\n",
    "import numpy as np\n",
    "import lightgbm as lgb\n",
    "import sys\n",
    "import math\n",
    "import gc\n",
    "import sklearn.metrics as skl_metrics\n",
    "\n",
    "from load_data import load_input_data, add_missing_days\n",
    "\n",
    "from logging import StreamHandler, DEBUG, Formatter, FileHandler, getLogger\n",
    "\n",
    "logger = getLogger(__name__)\n",
    "\n",
    "pd.options.mode.chained_assignment = None  # default='warn'\n",
    "\n",
    "DIR = '../logs/'\n",
    "\n",
    "log_fmt = Formatter('%(asctime)s %(name)s %(lineno)d [%(levelname)s]\\\n",
    "    [%(funcName)s] %(message)s ')\n",
    "handler = StreamHandler()\n",
    "handler.setLevel('INFO')\n",
    "handler.setFormatter(log_fmt)\n",
    "logger.addHandler(handler)\n",
    "\n",
    "handler = FileHandler(DIR + 'train.py.log', 'a')\n",
    "handler.setLevel(DEBUG)\n",
    "handler.setFormatter(log_fmt)\n",
    "logger.setLevel(DEBUG)\n",
    "logger.addHandler(handler)\n",
    "\n",
    "logger.info('start')\n",
    "\n",
    "calendar = pd.read_csv(\"../input/calendar.csv\",)\n",
    "calendar['date'] = pd.to_datetime(calendar['salesdate'])\n"
   ]
  },
  {
   "cell_type": "code",
   "execution_count": 373,
   "metadata": {},
   "outputs": [],
   "source": [
    "wkfcst = pd.read_pickle('../wkdata/wkfcst.p')\n",
    "wkfcst = wkfcst.reset_index()"
   ]
  },
  {
   "cell_type": "code",
   "execution_count": 370,
   "metadata": {},
   "outputs": [],
   "source": [
    "\n"
   ]
  },
  {
   "cell_type": "code",
   "execution_count": 371,
   "metadata": {},
   "outputs": [
    {
     "data": {
      "text/plain": [
       "2422138.9054729454"
      ]
     },
     "execution_count": 371,
     "metadata": {},
     "output_type": "execute_result"
    }
   ],
   "source": [
    "wkfcst.unit_sales.sum()"
   ]
  }
 ],
 "metadata": {
  "kernelspec": {
   "display_name": "Python 3",
   "language": "python",
   "name": "python3"
  },
  "language_info": {
   "codemirror_mode": {
    "name": "ipython",
    "version": 3
   },
   "file_extension": ".py",
   "mimetype": "text/x-python",
   "name": "python",
   "nbconvert_exporter": "python",
   "pygments_lexer": "ipython3",
   "version": "3.6.3"
  }
 },
 "nbformat": 4,
 "nbformat_minor": 2
}
